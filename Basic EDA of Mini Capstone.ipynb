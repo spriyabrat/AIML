{
 "cells": [
  {
   "cell_type": "code",
   "execution_count": 1,
   "metadata": {},
   "outputs": [],
   "source": [
    "import warnings\n",
    "warnings.simplefilter('ignore')\n",
    "\n",
    "import numpy as np\n",
    "import pandas as pd\n",
    "\n",
    "%matplotlib inline\n",
    "import matplotlib.pyplot as plt\n",
    "import seaborn as sns"
   ]
  },
  {
   "cell_type": "code",
   "execution_count": 3,
   "metadata": {},
   "outputs": [
    {
     "data": {
      "text/html": [
       "<div>\n",
       "<style scoped>\n",
       "    .dataframe tbody tr th:only-of-type {\n",
       "        vertical-align: middle;\n",
       "    }\n",
       "\n",
       "    .dataframe tbody tr th {\n",
       "        vertical-align: top;\n",
       "    }\n",
       "\n",
       "    .dataframe thead th {\n",
       "        text-align: right;\n",
       "    }\n",
       "</style>\n",
       "<table border=\"1\" class=\"dataframe\">\n",
       "  <thead>\n",
       "    <tr style=\"text-align: right;\">\n",
       "      <th></th>\n",
       "      <th>PropertyID</th>\n",
       "      <th>BHKs</th>\n",
       "      <th>FloorArea</th>\n",
       "      <th>Bathrooms</th>\n",
       "      <th>Type_of_Sale</th>\n",
       "      <th>Furnishing_Status</th>\n",
       "      <th>Locality</th>\n",
       "      <th>Price_in_Lacs</th>\n",
       "      <th>Property_URL</th>\n",
       "      <th>Image_URL</th>\n",
       "      <th>Posted_On</th>\n",
       "      <th>Last_Modified_On</th>\n",
       "    </tr>\n",
       "  </thead>\n",
       "  <tbody>\n",
       "    <tr>\n",
       "      <th>0</th>\n",
       "      <td>24885041</td>\n",
       "      <td>1</td>\n",
       "      <td>500</td>\n",
       "      <td>1</td>\n",
       "      <td>New</td>\n",
       "      <td>Unfurnished</td>\n",
       "      <td>Dhakuria</td>\n",
       "      <td>25.0</td>\n",
       "      <td>https://www.magicbricks.com/propertyDetails/1-...</td>\n",
       "      <td>https://img.staticmb.com/mbphoto/property/crop...</td>\n",
       "      <td>Apr 30, '18</td>\n",
       "      <td>35:50.4</td>\n",
       "    </tr>\n",
       "    <tr>\n",
       "      <th>1</th>\n",
       "      <td>33802865</td>\n",
       "      <td>1</td>\n",
       "      <td>570</td>\n",
       "      <td>2</td>\n",
       "      <td>Resale</td>\n",
       "      <td>Unfurnished</td>\n",
       "      <td>Dhakuria</td>\n",
       "      <td>25.0</td>\n",
       "      <td>https://www.magicbricks.com/propertyDetails/1-...</td>\n",
       "      <td>https://img.staticmb.com/mbphoto/property/crop...</td>\n",
       "      <td>Apr 17, '18</td>\n",
       "      <td>35:50.5</td>\n",
       "    </tr>\n",
       "    <tr>\n",
       "      <th>2</th>\n",
       "      <td>31922815</td>\n",
       "      <td>1</td>\n",
       "      <td>476</td>\n",
       "      <td>1</td>\n",
       "      <td>Resale</td>\n",
       "      <td>Unfurnished</td>\n",
       "      <td>Dhakuria</td>\n",
       "      <td>18.0</td>\n",
       "      <td>https://www.magicbricks.com/propertyDetails/1-...</td>\n",
       "      <td>https://img.staticmb.com/mbphoto/property/crop...</td>\n",
       "      <td>Jan 20, '18</td>\n",
       "      <td>35:50.6</td>\n",
       "    </tr>\n",
       "  </tbody>\n",
       "</table>\n",
       "</div>"
      ],
      "text/plain": [
       "   PropertyID  BHKs  FloorArea  Bathrooms Type_of_Sale Furnishing_Status  \\\n",
       "0    24885041     1        500          1          New       Unfurnished   \n",
       "1    33802865     1        570          2       Resale       Unfurnished   \n",
       "2    31922815     1        476          1       Resale       Unfurnished   \n",
       "\n",
       "   Locality  Price_in_Lacs                                       Property_URL  \\\n",
       "0  Dhakuria           25.0  https://www.magicbricks.com/propertyDetails/1-...   \n",
       "1  Dhakuria           25.0  https://www.magicbricks.com/propertyDetails/1-...   \n",
       "2  Dhakuria           18.0  https://www.magicbricks.com/propertyDetails/1-...   \n",
       "\n",
       "                                           Image_URL    Posted_On  \\\n",
       "0  https://img.staticmb.com/mbphoto/property/crop...  Apr 30, '18   \n",
       "1  https://img.staticmb.com/mbphoto/property/crop...  Apr 17, '18   \n",
       "2  https://img.staticmb.com/mbphoto/property/crop...  Jan 20, '18   \n",
       "\n",
       "  Last_Modified_On  \n",
       "0          35:50.4  \n",
       "1          35:50.5  \n",
       "2          35:50.6  "
      ]
     },
     "execution_count": 3,
     "metadata": {},
     "output_type": "execute_result"
    }
   ],
   "source": [
    "df.head(3)"
   ]
  },
  {
   "cell_type": "code",
   "execution_count": 2,
   "metadata": {},
   "outputs": [],
   "source": [
    "df = pd.read_csv('house_data.csv')"
   ]
  },
  {
   "cell_type": "code",
   "execution_count": 10,
   "metadata": {
    "scrolled": true
   },
   "outputs": [
    {
     "data": {
      "text/plain": [
       "(422, 12)"
      ]
     },
     "execution_count": 10,
     "metadata": {},
     "output_type": "execute_result"
    }
   ],
   "source": [
    "df.shape"
   ]
  },
  {
   "cell_type": "code",
   "execution_count": 7,
   "metadata": {},
   "outputs": [
    {
     "data": {
      "text/plain": [
       "Index(['PropertyID', 'BHKs', 'FloorArea', 'Bathrooms', 'Type_of_Sale',\n",
       "       'Furnishing_Status', 'Locality', 'Price_in_Lacs', 'Property_URL',\n",
       "       'Image_URL', 'Posted_On', 'Last_Modified_On'],\n",
       "      dtype='object')"
      ]
     },
     "execution_count": 7,
     "metadata": {},
     "output_type": "execute_result"
    }
   ],
   "source": [
    "df.columns"
   ]
  },
  {
   "cell_type": "code",
   "execution_count": 11,
   "metadata": {},
   "outputs": [
    {
     "data": {
      "text/plain": [
       "PropertyID             int64\n",
       "BHKs                   int64\n",
       "FloorArea              int64\n",
       "Bathrooms              int64\n",
       "Type_of_Sale          object\n",
       "Furnishing_Status     object\n",
       "Locality              object\n",
       "Price_in_Lacs        float64\n",
       "Property_URL          object\n",
       "Image_URL             object\n",
       "Posted_On             object\n",
       "Last_Modified_On      object\n",
       "dtype: object"
      ]
     },
     "execution_count": 11,
     "metadata": {},
     "output_type": "execute_result"
    }
   ],
   "source": [
    "df.dtypes"
   ]
  },
  {
   "cell_type": "code",
   "execution_count": 13,
   "metadata": {},
   "outputs": [
    {
     "name": "stdout",
     "output_type": "stream",
     "text": [
      "<class 'pandas.core.frame.DataFrame'>\n",
      "RangeIndex: 422 entries, 0 to 421\n",
      "Data columns (total 12 columns):\n",
      " #   Column             Non-Null Count  Dtype  \n",
      "---  ------             --------------  -----  \n",
      " 0   PropertyID         422 non-null    int64  \n",
      " 1   BHKs               422 non-null    int64  \n",
      " 2   FloorArea          422 non-null    int64  \n",
      " 3   Bathrooms          422 non-null    int64  \n",
      " 4   Type_of_Sale       422 non-null    object \n",
      " 5   Furnishing_Status  422 non-null    object \n",
      " 6   Locality           422 non-null    object \n",
      " 7   Price_in_Lacs      422 non-null    float64\n",
      " 8   Property_URL       422 non-null    object \n",
      " 9   Image_URL          422 non-null    object \n",
      " 10  Posted_On          422 non-null    object \n",
      " 11  Last_Modified_On   422 non-null    object \n",
      "dtypes: float64(1), int64(4), object(7)\n",
      "memory usage: 39.7+ KB\n"
     ]
    }
   ],
   "source": [
    "df.info()"
   ]
  },
  {
   "cell_type": "code",
   "execution_count": 20,
   "metadata": {},
   "outputs": [
    {
     "data": {
      "text/html": [
       "<div>\n",
       "<style scoped>\n",
       "    .dataframe tbody tr th:only-of-type {\n",
       "        vertical-align: middle;\n",
       "    }\n",
       "\n",
       "    .dataframe tbody tr th {\n",
       "        vertical-align: top;\n",
       "    }\n",
       "\n",
       "    .dataframe thead th {\n",
       "        text-align: right;\n",
       "    }\n",
       "</style>\n",
       "<table border=\"1\" class=\"dataframe\">\n",
       "  <thead>\n",
       "    <tr style=\"text-align: right;\">\n",
       "      <th></th>\n",
       "      <th>count</th>\n",
       "      <th>mean</th>\n",
       "      <th>std</th>\n",
       "      <th>min</th>\n",
       "      <th>25%</th>\n",
       "      <th>50%</th>\n",
       "      <th>75%</th>\n",
       "      <th>max</th>\n",
       "    </tr>\n",
       "  </thead>\n",
       "  <tbody>\n",
       "    <tr>\n",
       "      <th>PropertyID</th>\n",
       "      <td>422.0</td>\n",
       "      <td>3.097668e+07</td>\n",
       "      <td>3.909848e+06</td>\n",
       "      <td>11024964.0</td>\n",
       "      <td>30548792.50</td>\n",
       "      <td>32306583.0</td>\n",
       "      <td>33358903.00</td>\n",
       "      <td>34175443.0</td>\n",
       "    </tr>\n",
       "    <tr>\n",
       "      <th>BHKs</th>\n",
       "      <td>422.0</td>\n",
       "      <td>2.699052e+00</td>\n",
       "      <td>1.061952e+00</td>\n",
       "      <td>1.0</td>\n",
       "      <td>2.00</td>\n",
       "      <td>3.0</td>\n",
       "      <td>3.00</td>\n",
       "      <td>5.0</td>\n",
       "    </tr>\n",
       "    <tr>\n",
       "      <th>FloorArea</th>\n",
       "      <td>422.0</td>\n",
       "      <td>1.422616e+03</td>\n",
       "      <td>8.683071e+02</td>\n",
       "      <td>200.0</td>\n",
       "      <td>878.25</td>\n",
       "      <td>1200.0</td>\n",
       "      <td>1764.00</td>\n",
       "      <td>6000.0</td>\n",
       "    </tr>\n",
       "    <tr>\n",
       "      <th>Bathrooms</th>\n",
       "      <td>422.0</td>\n",
       "      <td>2.324645e+00</td>\n",
       "      <td>9.098611e-01</td>\n",
       "      <td>1.0</td>\n",
       "      <td>2.00</td>\n",
       "      <td>2.0</td>\n",
       "      <td>3.00</td>\n",
       "      <td>5.0</td>\n",
       "    </tr>\n",
       "    <tr>\n",
       "      <th>Price_in_Lacs</th>\n",
       "      <td>422.0</td>\n",
       "      <td>1.151045e+02</td>\n",
       "      <td>1.421846e+02</td>\n",
       "      <td>6.0</td>\n",
       "      <td>42.30</td>\n",
       "      <td>70.0</td>\n",
       "      <td>137.25</td>\n",
       "      <td>1100.0</td>\n",
       "    </tr>\n",
       "  </tbody>\n",
       "</table>\n",
       "</div>"
      ],
      "text/plain": [
       "               count          mean           std         min          25%  \\\n",
       "PropertyID     422.0  3.097668e+07  3.909848e+06  11024964.0  30548792.50   \n",
       "BHKs           422.0  2.699052e+00  1.061952e+00         1.0         2.00   \n",
       "FloorArea      422.0  1.422616e+03  8.683071e+02       200.0       878.25   \n",
       "Bathrooms      422.0  2.324645e+00  9.098611e-01         1.0         2.00   \n",
       "Price_in_Lacs  422.0  1.151045e+02  1.421846e+02         6.0        42.30   \n",
       "\n",
       "                      50%          75%         max  \n",
       "PropertyID     32306583.0  33358903.00  34175443.0  \n",
       "BHKs                  3.0         3.00         5.0  \n",
       "FloorArea          1200.0      1764.00      6000.0  \n",
       "Bathrooms             2.0         3.00         5.0  \n",
       "Price_in_Lacs        70.0       137.25      1100.0  "
      ]
     },
     "execution_count": 20,
     "metadata": {},
     "output_type": "execute_result"
    }
   ],
   "source": [
    "df.describe().T"
   ]
  },
  {
   "cell_type": "code",
   "execution_count": null,
   "metadata": {},
   "outputs": [],
   "source": []
  },
  {
   "cell_type": "code",
   "execution_count": null,
   "metadata": {},
   "outputs": [],
   "source": []
  },
  {
   "cell_type": "markdown",
   "metadata": {},
   "source": [
    "In Data Analysis We will Analyze To Find out the below stuff\n",
    "1. Missing Values\n",
    "2. All The Numerical Variables\n",
    "3. Distribution of the Numerical Variables\n",
    "4. Categorical Variables\n",
    "5. Cardinality of Categorical Variables\n",
    "6. Outliers\n",
    "7. Relationship between independent and dependent feature(SalePrice)"
   ]
  },
  {
   "cell_type": "code",
   "execution_count": 9,
   "metadata": {},
   "outputs": [
    {
     "data": {
      "text/plain": [
       "PropertyID           0\n",
       "BHKs                 0\n",
       "FloorArea            0\n",
       "Bathrooms            0\n",
       "Type_of_Sale         0\n",
       "Furnishing_Status    0\n",
       "Locality             0\n",
       "Price_in_Lacs        0\n",
       "Property_URL         0\n",
       "Image_URL            0\n",
       "Posted_On            0\n",
       "Last_Modified_On     0\n",
       "dtype: int64"
      ]
     },
     "execution_count": 9,
     "metadata": {},
     "output_type": "execute_result"
    }
   ],
   "source": [
    "df.isnull().sum()"
   ]
  },
  {
   "cell_type": "markdown",
   "metadata": {},
   "source": [
    "* NO missing value is there in the datasets."
   ]
  },
  {
   "cell_type": "code",
   "execution_count": 12,
   "metadata": {},
   "outputs": [
    {
     "name": "stdout",
     "output_type": "stream",
     "text": [
      "Number of numerical variables:  5\n"
     ]
    },
    {
     "data": {
      "text/html": [
       "<div>\n",
       "<style scoped>\n",
       "    .dataframe tbody tr th:only-of-type {\n",
       "        vertical-align: middle;\n",
       "    }\n",
       "\n",
       "    .dataframe tbody tr th {\n",
       "        vertical-align: top;\n",
       "    }\n",
       "\n",
       "    .dataframe thead th {\n",
       "        text-align: right;\n",
       "    }\n",
       "</style>\n",
       "<table border=\"1\" class=\"dataframe\">\n",
       "  <thead>\n",
       "    <tr style=\"text-align: right;\">\n",
       "      <th></th>\n",
       "      <th>PropertyID</th>\n",
       "      <th>BHKs</th>\n",
       "      <th>FloorArea</th>\n",
       "      <th>Bathrooms</th>\n",
       "      <th>Price_in_Lacs</th>\n",
       "    </tr>\n",
       "  </thead>\n",
       "  <tbody>\n",
       "    <tr>\n",
       "      <th>0</th>\n",
       "      <td>24885041</td>\n",
       "      <td>1</td>\n",
       "      <td>500</td>\n",
       "      <td>1</td>\n",
       "      <td>25.0</td>\n",
       "    </tr>\n",
       "    <tr>\n",
       "      <th>1</th>\n",
       "      <td>33802865</td>\n",
       "      <td>1</td>\n",
       "      <td>570</td>\n",
       "      <td>2</td>\n",
       "      <td>25.0</td>\n",
       "    </tr>\n",
       "    <tr>\n",
       "      <th>2</th>\n",
       "      <td>31922815</td>\n",
       "      <td>1</td>\n",
       "      <td>476</td>\n",
       "      <td>1</td>\n",
       "      <td>18.0</td>\n",
       "    </tr>\n",
       "    <tr>\n",
       "      <th>3</th>\n",
       "      <td>33838245</td>\n",
       "      <td>1</td>\n",
       "      <td>550</td>\n",
       "      <td>1</td>\n",
       "      <td>20.0</td>\n",
       "    </tr>\n",
       "    <tr>\n",
       "      <th>4</th>\n",
       "      <td>25692697</td>\n",
       "      <td>1</td>\n",
       "      <td>475</td>\n",
       "      <td>1</td>\n",
       "      <td>26.7</td>\n",
       "    </tr>\n",
       "  </tbody>\n",
       "</table>\n",
       "</div>"
      ],
      "text/plain": [
       "   PropertyID  BHKs  FloorArea  Bathrooms  Price_in_Lacs\n",
       "0    24885041     1        500          1           25.0\n",
       "1    33802865     1        570          2           25.0\n",
       "2    31922815     1        476          1           18.0\n",
       "3    33838245     1        550          1           20.0\n",
       "4    25692697     1        475          1           26.7"
      ]
     },
     "execution_count": 12,
     "metadata": {},
     "output_type": "execute_result"
    }
   ],
   "source": [
    "# list of numerical variables\n",
    "numerical_features = [feature for feature in df.columns if df[feature].dtypes != 'O']\n",
    "\n",
    "print('Number of numerical variables: ', len(numerical_features))\n",
    "\n",
    "# visualise the numerical variables\n",
    "df[numerical_features].head()"
   ]
  },
  {
   "cell_type": "code",
   "execution_count": 23,
   "metadata": {},
   "outputs": [
    {
     "name": "stdout",
     "output_type": "stream",
     "text": [
      "The number of unique values in PropertyID is 422\n",
      "The number of unique values in BHKs is 5\n",
      "The number of unique values in FloorArea is 261\n",
      "The number of unique values in Bathrooms is 5\n",
      "The number of unique values in Price_in_Lacs is 235\n"
     ]
    }
   ],
   "source": [
    "for i in df[numerical_features].columns:\n",
    "    print('The number of unique values in {} is {}'.format(i,df[i].nunique()))"
   ]
  },
  {
   "cell_type": "code",
   "execution_count": 24,
   "metadata": {},
   "outputs": [],
   "source": [
    "df1 = df.copy()"
   ]
  },
  {
   "cell_type": "code",
   "execution_count": 25,
   "metadata": {},
   "outputs": [],
   "source": [
    "#as in PropertyID all values are unique,we will drop that column\n",
    "\n",
    "df1 = df1.drop('PropertyID',axis=1)"
   ]
  },
  {
   "cell_type": "code",
   "execution_count": 26,
   "metadata": {},
   "outputs": [
    {
     "data": {
      "text/plain": [
       "array([[<matplotlib.axes._subplots.AxesSubplot object at 0x00000000153BC630>,\n",
       "        <matplotlib.axes._subplots.AxesSubplot object at 0x000000001699C780>],\n",
       "       [<matplotlib.axes._subplots.AxesSubplot object at 0x0000000016B41278>,\n",
       "        <matplotlib.axes._subplots.AxesSubplot object at 0x000000001680FCF8>]],\n",
       "      dtype=object)"
      ]
     },
     "execution_count": 26,
     "metadata": {},
     "output_type": "execute_result"
    },
    {
     "data": {
      "image/png": "[encoded data removed]",
      "text/plain": [
       "<Figure size 1080x576 with 4 Axes>"
      ]
     },
     "metadata": {
      "needs_background": "light"
     },
     "output_type": "display_data"
    }
   ],
   "source": [
    "df1.hist(figsize=(15,8))"
   ]
  },
  {
   "cell_type": "code",
   "execution_count": 27,
   "metadata": {},
   "outputs": [
    {
     "data": {
      "text/plain": [
       "<matplotlib.axes._subplots.AxesSubplot at 0x16dba160>"
      ]
     },
     "execution_count": 27,
     "metadata": {},
     "output_type": "execute_result"
    },
    {
     "data": {
      "image/png": "[encoded data removed]",
      "text/plain": [
       "<Figure size 432x288 with 1 Axes>"
      ]
     },
     "metadata": {},
     "output_type": "display_data"
    }
   ],
   "source": [
    "df1['Furnishing_Status'].value_counts().plot(kind='pie', autopct='%1.1f%%')"
   ]
  },
  {
   "cell_type": "code",
   "execution_count": 18,
   "metadata": {},
   "outputs": [
    {
     "data": {
      "text/plain": [
       "<matplotlib.axes._subplots.AxesSubplot at 0x7156c50>"
      ]
     },
     "execution_count": 18,
     "metadata": {},
     "output_type": "execute_result"
    },
    {
     "data": {
      "image/png": "[encoded data removed]",
      "text/plain": [
       "<Figure size 432x288 with 1 Axes>"
      ]
     },
     "metadata": {},
     "output_type": "display_data"
    }
   ],
   "source": [
    "df['Type_of_Sale'].value_counts().plot(kind='pie', autopct='%1.1f%%')"
   ]
  },
  {
   "cell_type": "code",
   "execution_count": 19,
   "metadata": {},
   "outputs": [
    {
     "data": {
      "text/plain": [
       "<matplotlib.axes._subplots.AxesSubplot at 0x6ea70b8>"
      ]
     },
     "execution_count": 19,
     "metadata": {},
     "output_type": "execute_result"
    },
    {
     "data": {
      "image/png": "[encoded data removed]",
      "text/plain": [
       "<Figure size 432x288 with 1 Axes>"
      ]
     },
     "metadata": {},
     "output_type": "display_data"
    }
   ],
   "source": [
    "df['Locality'].value_counts().plot(kind='pie', autopct='%1.1f%%')"
   ]
  },
  {
   "cell_type": "code",
   "execution_count": 30,
   "metadata": {},
   "outputs": [
    {
     "data": {
      "text/plain": [
       "<matplotlib.axes._subplots.AxesSubplot at 0x16ea3320>"
      ]
     },
     "execution_count": 30,
     "metadata": {},
     "output_type": "execute_result"
    },
    {
     "data": {
      "image/png": "[encoded data removed]",
      "text/plain": [
       "<Figure size 1440x576 with 1 Axes>"
      ]
     },
     "metadata": {
      "needs_background": "light"
     },
     "output_type": "display_data"
    }
   ],
   "source": [
    "df1.boxplot(figsize=(20,8))"
   ]
  },
  {
   "cell_type": "markdown",
   "metadata": {},
   "source": [
    "* A lots of outliers present in both 'Floor Area' and 'Price_in_Lacs' columns."
   ]
  },
  {
   "cell_type": "code",
   "execution_count": null,
   "metadata": {},
   "outputs": [],
   "source": []
  },
  {
   "cell_type": "code",
   "execution_count": 38,
   "metadata": {},
   "outputs": [
    {
     "name": "stdout",
     "output_type": "stream",
     "text": [
      "The number of unique values in Type_of_Sale is 2\n",
      "The number of unique values in Furnishing_Status is 3\n",
      "The number of unique values in Locality is 7\n",
      "The number of unique values in Property_URL is 422\n",
      "The number of unique values in Image_URL is 386\n",
      "The number of unique values in Posted_On is 103\n",
      "The number of unique values in Last_Modified_On is 400\n"
     ]
    }
   ],
   "source": [
    "for i in df1[cat_features].columns:\n",
    "    print('The number of unique values in {} is {}'.format(i,df1[i].nunique()))"
   ]
  },
  {
   "cell_type": "code",
   "execution_count": 39,
   "metadata": {},
   "outputs": [],
   "source": [
    "#as there are all data in 'Property_URL' and 'Last_Modified_On' that needs to be drop.\n",
    "df1 = df1.drop('Property_URL',axis=1)\n",
    "df1 = df1.drop('Last_Modified_On',axis=1)"
   ]
  },
  {
   "cell_type": "code",
   "execution_count": 44,
   "metadata": {},
   "outputs": [],
   "source": [
    "df1 = df1.drop('Image_URL',axis=1)"
   ]
  },
  {
   "cell_type": "code",
   "execution_count": 45,
   "metadata": {},
   "outputs": [
    {
     "data": {
      "text/html": [
       "<div>\n",
       "<style scoped>\n",
       "    .dataframe tbody tr th:only-of-type {\n",
       "        vertical-align: middle;\n",
       "    }\n",
       "\n",
       "    .dataframe tbody tr th {\n",
       "        vertical-align: top;\n",
       "    }\n",
       "\n",
       "    .dataframe thead th {\n",
       "        text-align: right;\n",
       "    }\n",
       "</style>\n",
       "<table border=\"1\" class=\"dataframe\">\n",
       "  <thead>\n",
       "    <tr style=\"text-align: right;\">\n",
       "      <th></th>\n",
       "      <th>BHKs</th>\n",
       "      <th>FloorArea</th>\n",
       "      <th>Bathrooms</th>\n",
       "      <th>Type_of_Sale</th>\n",
       "      <th>Furnishing_Status</th>\n",
       "      <th>Locality</th>\n",
       "      <th>Price_in_Lacs</th>\n",
       "      <th>Posted_On</th>\n",
       "    </tr>\n",
       "  </thead>\n",
       "  <tbody>\n",
       "    <tr>\n",
       "      <th>0</th>\n",
       "      <td>1</td>\n",
       "      <td>500</td>\n",
       "      <td>1</td>\n",
       "      <td>New</td>\n",
       "      <td>Unfurnished</td>\n",
       "      <td>Dhakuria</td>\n",
       "      <td>25.0</td>\n",
       "      <td>Apr 30, '18</td>\n",
       "    </tr>\n",
       "    <tr>\n",
       "      <th>1</th>\n",
       "      <td>1</td>\n",
       "      <td>570</td>\n",
       "      <td>2</td>\n",
       "      <td>Resale</td>\n",
       "      <td>Unfurnished</td>\n",
       "      <td>Dhakuria</td>\n",
       "      <td>25.0</td>\n",
       "      <td>Apr 17, '18</td>\n",
       "    </tr>\n",
       "    <tr>\n",
       "      <th>2</th>\n",
       "      <td>1</td>\n",
       "      <td>476</td>\n",
       "      <td>1</td>\n",
       "      <td>Resale</td>\n",
       "      <td>Unfurnished</td>\n",
       "      <td>Dhakuria</td>\n",
       "      <td>18.0</td>\n",
       "      <td>Jan 20, '18</td>\n",
       "    </tr>\n",
       "  </tbody>\n",
       "</table>\n",
       "</div>"
      ],
      "text/plain": [
       "   BHKs  FloorArea  Bathrooms Type_of_Sale Furnishing_Status  Locality  \\\n",
       "0     1        500          1          New       Unfurnished  Dhakuria   \n",
       "1     1        570          2       Resale       Unfurnished  Dhakuria   \n",
       "2     1        476          1       Resale       Unfurnished  Dhakuria   \n",
       "\n",
       "   Price_in_Lacs    Posted_On  \n",
       "0           25.0  Apr 30, '18  \n",
       "1           25.0  Apr 17, '18  \n",
       "2           18.0  Jan 20, '18  "
      ]
     },
     "execution_count": 45,
     "metadata": {},
     "output_type": "execute_result"
    }
   ],
   "source": [
    "df1.head(3)"
   ]
  },
  {
   "cell_type": "code",
   "execution_count": 49,
   "metadata": {},
   "outputs": [
    {
     "name": "stdout",
     "output_type": "stream",
     "text": [
      "Categorical of numerical variables:  4\n"
     ]
    },
    {
     "data": {
      "text/html": [
       "<div>\n",
       "<style scoped>\n",
       "    .dataframe tbody tr th:only-of-type {\n",
       "        vertical-align: middle;\n",
       "    }\n",
       "\n",
       "    .dataframe tbody tr th {\n",
       "        vertical-align: top;\n",
       "    }\n",
       "\n",
       "    .dataframe thead th {\n",
       "        text-align: right;\n",
       "    }\n",
       "</style>\n",
       "<table border=\"1\" class=\"dataframe\">\n",
       "  <thead>\n",
       "    <tr style=\"text-align: right;\">\n",
       "      <th></th>\n",
       "      <th>Type_of_Sale</th>\n",
       "      <th>Furnishing_Status</th>\n",
       "      <th>Locality</th>\n",
       "      <th>Posted_On</th>\n",
       "    </tr>\n",
       "  </thead>\n",
       "  <tbody>\n",
       "    <tr>\n",
       "      <th>0</th>\n",
       "      <td>New</td>\n",
       "      <td>Unfurnished</td>\n",
       "      <td>Dhakuria</td>\n",
       "      <td>Apr 30, '18</td>\n",
       "    </tr>\n",
       "    <tr>\n",
       "      <th>1</th>\n",
       "      <td>Resale</td>\n",
       "      <td>Unfurnished</td>\n",
       "      <td>Dhakuria</td>\n",
       "      <td>Apr 17, '18</td>\n",
       "    </tr>\n",
       "    <tr>\n",
       "      <th>2</th>\n",
       "      <td>Resale</td>\n",
       "      <td>Unfurnished</td>\n",
       "      <td>Dhakuria</td>\n",
       "      <td>Jan 20, '18</td>\n",
       "    </tr>\n",
       "    <tr>\n",
       "      <th>3</th>\n",
       "      <td>Resale</td>\n",
       "      <td>Furnished</td>\n",
       "      <td>Dhakuria</td>\n",
       "      <td>Apr 18, '18</td>\n",
       "    </tr>\n",
       "    <tr>\n",
       "      <th>4</th>\n",
       "      <td>New</td>\n",
       "      <td>Unfurnished</td>\n",
       "      <td>Dhakuria</td>\n",
       "      <td>Apr 06, '18</td>\n",
       "    </tr>\n",
       "  </tbody>\n",
       "</table>\n",
       "</div>"
      ],
      "text/plain": [
       "  Type_of_Sale Furnishing_Status  Locality    Posted_On\n",
       "0          New       Unfurnished  Dhakuria  Apr 30, '18\n",
       "1       Resale       Unfurnished  Dhakuria  Apr 17, '18\n",
       "2       Resale       Unfurnished  Dhakuria  Jan 20, '18\n",
       "3       Resale         Furnished  Dhakuria  Apr 18, '18\n",
       "4          New       Unfurnished  Dhakuria  Apr 06, '18"
      ]
     },
     "execution_count": 49,
     "metadata": {},
     "output_type": "execute_result"
    }
   ],
   "source": [
    "# list of numerical variables\n",
    "cat_features = [feature for feature in df1.columns if df1[feature].dtypes == 'O']\n",
    "\n",
    "print('Categorical of numerical variables: ', len(cat_features))\n",
    "\n",
    "# visualise the numerical variables\n",
    "df1[cat_features].head()"
   ]
  },
  {
   "cell_type": "code",
   "execution_count": 48,
   "metadata": {},
   "outputs": [
    {
     "data": {
      "image/png": "[encoded data removed]",
      "text/plain": [
       "<Figure size 1440x576 with 1 Axes>"
      ]
     },
     "metadata": {
      "needs_background": "light"
     },
     "output_type": "display_data"
    },
    {
     "data": {
      "image/png": "[encoded data removed]",
      "text/plain": [
       "<Figure size 1440x576 with 1 Axes>"
      ]
     },
     "metadata": {
      "needs_background": "light"
     },
     "output_type": "display_data"
    },
    {
     "data": {
      "image/png": "[encoded data removed]",
      "text/plain": [
       "<Figure size 1440x576 with 1 Axes>"
      ]
     },
     "metadata": {
      "needs_background": "light"
     },
     "output_type": "display_data"
    },
    {
     "data": {
      "image/png": "[encoded data removed]",
      "text/plain": [
       "<Figure size 1440x576 with 1 Axes>"
      ]
     },
     "metadata": {
      "needs_background": "light"
     },
     "output_type": "display_data"
    }
   ],
   "source": [
    "\n",
    "for feature in cat_features:\n",
    "    df1.groupby(feature)['Price_in_Lacs'].median().plot.bar(figsize=(20,8))\n",
    "    plt.xlabel(feature)\n",
    "    plt.ylabel('Price_in_Lacs')\n",
    "    plt.title(feature)\n",
    "    plt.show()"
   ]
  },
  {
   "cell_type": "markdown",
   "metadata": {},
   "source": [
    "* Prices are varing according to the the Number of BHKs.The price is high for the higher number of BHKs.\n",
    "* Resale price is more than the sale price.\n",
    "* Unfurnished price is less compared to others.\n",
    "* 'Balygunge' and 'Gariahat' location have more price compared to other location.\n",
    "* In some particular 'posted_on' date the price is higher."
   ]
  },
  {
   "cell_type": "code",
   "execution_count": null,
   "metadata": {},
   "outputs": [],
   "source": []
  }
 ],
 "metadata": {
  "kernelspec": {
   "display_name": "Python 3",
   "language": "python",
   "name": "python3"
  },
  "language_info": {
   "codemirror_mode": {
    "name": "ipython",
    "version": 3
   },
   "file_extension": ".py",
   "mimetype": "text/x-python",
   "name": "python",
   "nbconvert_exporter": "python",
   "pygments_lexer": "ipython3",
   "version": "3.7.1"
  }
 },
 "nbformat": 4,
 "nbformat_minor": 4
}
