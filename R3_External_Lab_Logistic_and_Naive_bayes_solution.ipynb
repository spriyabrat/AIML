{
 "cells": [
  {
   "cell_type": "markdown",
   "metadata": {
    "colab_type": "text",
    "id": "Z66fRKOeuHPg"
   },
   "source": [
    "## Supervised Learning - Building a Student Performace Prediction System  "
   ]
  },
  {
   "cell_type": "markdown",
   "metadata": {
    "colab_type": "text",
    "id": "YXt7PB5VuHPj"
   },
   "source": [
    "## Question 1 - Classification vs. Regression\n",
    "\n",
    "*The aim of this project is to predict how likely a student is to pass. Which type of supervised learning problem is this, classification or regression? Why?*\n",
    "\n",
    "#### Answer:\n",
    "This project is a classification supervised learning problem because the variable to predict, i.e. if a student graduates or fails to graduate, is categorical. On this case this a dichotomous categorical variable where the only two possible values are \"pass\" or \"fail\"."
   ]
  },
  {
   "cell_type": "markdown",
   "metadata": {
    "colab_type": "text",
    "id": "YW5BYFevuHPk"
   },
   "source": [
    "### Overview:\n",
    "\n",
    "1.Read the problem statement.\n",
    "\n",
    "2.Get the dataset.\n",
    "\n",
    "3.Explore the dataset.\n",
    "\n",
    "4.Pre-processing of dataset.\n",
    "\n",
    "5.Transform the dataset for building machine learning model.\n",
    "\n",
    "6.Split data into train, test set.\n",
    "\n",
    "7.Build Model.\n",
    "\n",
    "8.Apply the model.\n",
    "\n",
    "9.Evaluate the model.\n",
    "\n",
    "10.Provide insights."
   ]
  },
  {
   "cell_type": "markdown",
   "metadata": {
    "colab_type": "text",
    "id": "0gl2MdwkuHPl"
   },
   "source": [
    "## Problem Statement \n",
    "\n",
    "Using Logistic Regression **predict the performance of student**. The classification goal is to predict whether the student will pass or fail.\n",
    "\n",
    "## Dataset \n",
    "\n",
    "This data approach student achievement in secondary education of two Portuguese schools. The data attributes include student grades, demographic, social and school related features) and it was collected by using school reports and questionnaires. Two datasets are provided regarding the performance in Mathematics.\n",
    "\n",
    "**Source:** https://archive.ics.uci.edu/ml/datasets/Student+Performance\n"
   ]
  },
  {
   "cell_type": "markdown",
   "metadata": {
    "colab_type": "text",
    "id": "cHpGO_AGuHPm"
   },
   "source": [
    "## Question 2\n",
    "## Exploring the Data\n",
    "*Read the dataset file using pandas. Take care about the delimiter.*\n",
    "\n",
    "#### Answer:"
   ]
  },
  {
   "cell_type": "code",
   "execution_count": 0,
   "metadata": {
    "colab": {},
    "colab_type": "code",
    "id": "q3YEgKevuHPn"
   },
   "outputs": [],
   "source": [
    "import numpy as np\n",
    "import pandas as pd\n",
    "import matplotlib.pyplot as plt "
   ]
  },
  {
   "cell_type": "code",
   "execution_count": 0,
   "metadata": {
    "colab": {},
    "colab_type": "code",
    "id": "KHyQrv_muHPr",
    "scrolled": true
   },
   "outputs": [],
   "source": [
    "# Read dataset using pandas\n",
    "sd = pd.read_csv(\"students-data.csv\", delimiter=\";\")"
   ]
  },
  {
   "cell_type": "markdown",
   "metadata": {
    "colab_type": "text",
    "id": "BuwsTmYuuHPu"
   },
   "source": [
    "## Question 3\n",
    "## Drop missing values\n",
    "*Set the index name of the dataframe to **\"number\"**. Check sample of data to drop if any missing values are there.*\n",
    "\n",
    "#### Answer:"
   ]
  },
  {
   "cell_type": "code",
   "execution_count": 0,
   "metadata": {
    "colab": {},
    "colab_type": "code",
    "id": "EWbnH1HIuHPv",
    "outputId": "02e1a4ac-10bb-4ff5-f498-4eab7ca02a88"
   },
   "outputs": [
    {
     "name": "stdout",
     "output_type": "stream",
     "text": [
      "(395, 33)\n"
     ]
    },
    {
     "data": {
      "text/plain": [
       "Index([u'school', u'sex', u'age', u'address', u'famsize', u'Pstatus', u'Medu',\n",
       "       u'Fedu', u'Mjob', u'Fjob', u'reason', u'guardian', u'traveltime',\n",
       "       u'studytime', u'failures', u'schoolsup', u'famsup', u'paid',\n",
       "       u'activities', u'nursery', u'higher', u'internet', u'romantic',\n",
       "       u'famrel', u'freetime', u'goout', u'Dalc', u'Walc', u'health',\n",
       "       u'absences', u'G1', u'G2', u'G3'],\n",
       "      dtype='object')"
      ]
     },
     "execution_count": 8,
     "metadata": {
      "tags": []
     },
     "output_type": "execute_result"
    }
   ],
   "source": [
    "sd.index.name = \"number\"\n",
    "sd.sample(10)\n",
    "print(sd.shape)\n",
    "sd.dropna()\n",
    "sd.columns"
   ]
  },
  {
   "cell_type": "markdown",
   "metadata": {
    "colab_type": "text",
    "id": "2_P3ODMKuHP2"
   },
   "source": [
    "## Transform Data\n",
    "\n",
    "*Print all the attribute names which are not numerical.*\n",
    "\n",
    "**Hint:** check **select_dtypes()** and its **include** and **exclude** parameters.**\n",
    "\n",
    "#### Answer:"
   ]
  },
  {
   "cell_type": "code",
   "execution_count": 0,
   "metadata": {
    "colab": {},
    "colab_type": "code",
    "id": "bW1v3TuZuHP3",
    "outputId": "7bb649b6-b7bf-4c6c-a628-af61dbcb411c"
   },
   "outputs": [
    {
     "name": "stdout",
     "output_type": "stream",
     "text": [
      "Index([u'school', u'sex', u'address', u'famsize', u'Pstatus', u'Mjob', u'Fjob',\n",
      "       u'reason', u'guardian', u'schoolsup', u'famsup', u'paid', u'activities',\n",
      "       u'nursery', u'higher', u'internet', u'romantic'],\n",
      "      dtype='object')\n"
     ]
    }
   ],
   "source": [
    "L = sd.select_dtypes(include='object').columns\n",
    "print(L)"
   ]
  },
  {
   "cell_type": "markdown",
   "metadata": {
    "colab_type": "text",
    "id": "zTXZpxq5uHP7"
   },
   "source": [
    "## Drop variables with less variance\n",
    "\n",
    "*Find the variance of each numerical independent variable and drop whose variance is less than 1.*"
   ]
  },
  {
   "cell_type": "code",
   "execution_count": 0,
   "metadata": {
    "colab": {},
    "colab_type": "code",
    "id": "0Soz0W4vuHP8",
    "outputId": "711beccc-f196-4517-8f94-c3ffe81e8c17"
   },
   "outputs": [
    {
     "data": {
      "text/plain": [
       "age            1.628285\n",
       "Medu           1.198445\n",
       "Fedu           1.184180\n",
       "traveltime     0.486513\n",
       "studytime      0.704324\n",
       "failures       0.553017\n",
       "famrel         0.803997\n",
       "freetime       0.997725\n",
       "goout          1.239388\n",
       "Dalc           0.793420\n",
       "Walc           1.658678\n",
       "health         1.932944\n",
       "absences      64.049541\n",
       "G1            11.017053\n",
       "G2            14.148917\n",
       "G3            20.989616\n",
       "dtype: float64"
      ]
     },
     "execution_count": 10,
     "metadata": {
      "tags": []
     },
     "output_type": "execute_result"
    }
   ],
   "source": [
    "sd.var()"
   ]
  },
  {
   "cell_type": "code",
   "execution_count": 0,
   "metadata": {
    "colab": {},
    "colab_type": "code",
    "id": "u8Qm0728uHQA",
    "outputId": "5e81495f-2a70-47d6-b754-b33b5a1c1f30"
   },
   "outputs": [
    {
     "data": {
      "text/html": [
       "<div>\n",
       "<style scoped>\n",
       "    .dataframe tbody tr th:only-of-type {\n",
       "        vertical-align: middle;\n",
       "    }\n",
       "\n",
       "    .dataframe tbody tr th {\n",
       "        vertical-align: top;\n",
       "    }\n",
       "\n",
       "    .dataframe thead th {\n",
       "        text-align: right;\n",
       "    }\n",
       "</style>\n",
       "<table border=\"1\" class=\"dataframe\">\n",
       "  <thead>\n",
       "    <tr style=\"text-align: right;\">\n",
       "      <th></th>\n",
       "      <th>age</th>\n",
       "      <th>Medu</th>\n",
       "      <th>Fedu</th>\n",
       "      <th>traveltime</th>\n",
       "      <th>studytime</th>\n",
       "      <th>failures</th>\n",
       "      <th>famrel</th>\n",
       "      <th>freetime</th>\n",
       "      <th>goout</th>\n",
       "      <th>Dalc</th>\n",
       "      <th>Walc</th>\n",
       "      <th>health</th>\n",
       "      <th>absences</th>\n",
       "      <th>G1</th>\n",
       "      <th>G2</th>\n",
       "      <th>G3</th>\n",
       "    </tr>\n",
       "  </thead>\n",
       "  <tbody>\n",
       "    <tr>\n",
       "      <th>age</th>\n",
       "      <td>1.000000</td>\n",
       "      <td>-0.163658</td>\n",
       "      <td>-0.163438</td>\n",
       "      <td>0.070641</td>\n",
       "      <td>-0.004140</td>\n",
       "      <td>0.243665</td>\n",
       "      <td>0.053940</td>\n",
       "      <td>0.016434</td>\n",
       "      <td>0.126964</td>\n",
       "      <td>0.131125</td>\n",
       "      <td>0.117276</td>\n",
       "      <td>-0.062187</td>\n",
       "      <td>0.175230</td>\n",
       "      <td>-0.064081</td>\n",
       "      <td>-0.143474</td>\n",
       "      <td>-0.161579</td>\n",
       "    </tr>\n",
       "    <tr>\n",
       "      <th>Medu</th>\n",
       "      <td>-0.163658</td>\n",
       "      <td>1.000000</td>\n",
       "      <td>0.623455</td>\n",
       "      <td>-0.171639</td>\n",
       "      <td>0.064944</td>\n",
       "      <td>-0.236680</td>\n",
       "      <td>-0.003914</td>\n",
       "      <td>0.030891</td>\n",
       "      <td>0.064094</td>\n",
       "      <td>0.019834</td>\n",
       "      <td>-0.047123</td>\n",
       "      <td>-0.046878</td>\n",
       "      <td>0.100285</td>\n",
       "      <td>0.205341</td>\n",
       "      <td>0.215527</td>\n",
       "      <td>0.217147</td>\n",
       "    </tr>\n",
       "    <tr>\n",
       "      <th>Fedu</th>\n",
       "      <td>-0.163438</td>\n",
       "      <td>0.623455</td>\n",
       "      <td>1.000000</td>\n",
       "      <td>-0.158194</td>\n",
       "      <td>-0.009175</td>\n",
       "      <td>-0.250408</td>\n",
       "      <td>-0.001370</td>\n",
       "      <td>-0.012846</td>\n",
       "      <td>0.043105</td>\n",
       "      <td>0.002386</td>\n",
       "      <td>-0.012631</td>\n",
       "      <td>0.014742</td>\n",
       "      <td>0.024473</td>\n",
       "      <td>0.190270</td>\n",
       "      <td>0.164893</td>\n",
       "      <td>0.152457</td>\n",
       "    </tr>\n",
       "    <tr>\n",
       "      <th>traveltime</th>\n",
       "      <td>0.070641</td>\n",
       "      <td>-0.171639</td>\n",
       "      <td>-0.158194</td>\n",
       "      <td>1.000000</td>\n",
       "      <td>-0.100909</td>\n",
       "      <td>0.092239</td>\n",
       "      <td>-0.016808</td>\n",
       "      <td>-0.017025</td>\n",
       "      <td>0.028540</td>\n",
       "      <td>0.138325</td>\n",
       "      <td>0.134116</td>\n",
       "      <td>0.007501</td>\n",
       "      <td>-0.012944</td>\n",
       "      <td>-0.093040</td>\n",
       "      <td>-0.153198</td>\n",
       "      <td>-0.117142</td>\n",
       "    </tr>\n",
       "    <tr>\n",
       "      <th>studytime</th>\n",
       "      <td>-0.004140</td>\n",
       "      <td>0.064944</td>\n",
       "      <td>-0.009175</td>\n",
       "      <td>-0.100909</td>\n",
       "      <td>1.000000</td>\n",
       "      <td>-0.173563</td>\n",
       "      <td>0.039731</td>\n",
       "      <td>-0.143198</td>\n",
       "      <td>-0.063904</td>\n",
       "      <td>-0.196019</td>\n",
       "      <td>-0.253785</td>\n",
       "      <td>-0.075616</td>\n",
       "      <td>-0.062700</td>\n",
       "      <td>0.160612</td>\n",
       "      <td>0.135880</td>\n",
       "      <td>0.097820</td>\n",
       "    </tr>\n",
       "    <tr>\n",
       "      <th>failures</th>\n",
       "      <td>0.243665</td>\n",
       "      <td>-0.236680</td>\n",
       "      <td>-0.250408</td>\n",
       "      <td>0.092239</td>\n",
       "      <td>-0.173563</td>\n",
       "      <td>1.000000</td>\n",
       "      <td>-0.044337</td>\n",
       "      <td>0.091987</td>\n",
       "      <td>0.124561</td>\n",
       "      <td>0.136047</td>\n",
       "      <td>0.141962</td>\n",
       "      <td>0.065827</td>\n",
       "      <td>0.063726</td>\n",
       "      <td>-0.354718</td>\n",
       "      <td>-0.355896</td>\n",
       "      <td>-0.360415</td>\n",
       "    </tr>\n",
       "    <tr>\n",
       "      <th>famrel</th>\n",
       "      <td>0.053940</td>\n",
       "      <td>-0.003914</td>\n",
       "      <td>-0.001370</td>\n",
       "      <td>-0.016808</td>\n",
       "      <td>0.039731</td>\n",
       "      <td>-0.044337</td>\n",
       "      <td>1.000000</td>\n",
       "      <td>0.150701</td>\n",
       "      <td>0.064568</td>\n",
       "      <td>-0.077594</td>\n",
       "      <td>-0.113397</td>\n",
       "      <td>0.094056</td>\n",
       "      <td>-0.044354</td>\n",
       "      <td>0.022168</td>\n",
       "      <td>-0.018281</td>\n",
       "      <td>0.051363</td>\n",
       "    </tr>\n",
       "    <tr>\n",
       "      <th>freetime</th>\n",
       "      <td>0.016434</td>\n",
       "      <td>0.030891</td>\n",
       "      <td>-0.012846</td>\n",
       "      <td>-0.017025</td>\n",
       "      <td>-0.143198</td>\n",
       "      <td>0.091987</td>\n",
       "      <td>0.150701</td>\n",
       "      <td>1.000000</td>\n",
       "      <td>0.285019</td>\n",
       "      <td>0.209001</td>\n",
       "      <td>0.147822</td>\n",
       "      <td>0.075733</td>\n",
       "      <td>-0.058078</td>\n",
       "      <td>0.012613</td>\n",
       "      <td>-0.013777</td>\n",
       "      <td>0.011307</td>\n",
       "    </tr>\n",
       "    <tr>\n",
       "      <th>goout</th>\n",
       "      <td>0.126964</td>\n",
       "      <td>0.064094</td>\n",
       "      <td>0.043105</td>\n",
       "      <td>0.028540</td>\n",
       "      <td>-0.063904</td>\n",
       "      <td>0.124561</td>\n",
       "      <td>0.064568</td>\n",
       "      <td>0.285019</td>\n",
       "      <td>1.000000</td>\n",
       "      <td>0.266994</td>\n",
       "      <td>0.420386</td>\n",
       "      <td>-0.009577</td>\n",
       "      <td>0.044302</td>\n",
       "      <td>-0.149104</td>\n",
       "      <td>-0.162250</td>\n",
       "      <td>-0.132791</td>\n",
       "    </tr>\n",
       "    <tr>\n",
       "      <th>Dalc</th>\n",
       "      <td>0.131125</td>\n",
       "      <td>0.019834</td>\n",
       "      <td>0.002386</td>\n",
       "      <td>0.138325</td>\n",
       "      <td>-0.196019</td>\n",
       "      <td>0.136047</td>\n",
       "      <td>-0.077594</td>\n",
       "      <td>0.209001</td>\n",
       "      <td>0.266994</td>\n",
       "      <td>1.000000</td>\n",
       "      <td>0.647544</td>\n",
       "      <td>0.077180</td>\n",
       "      <td>0.111908</td>\n",
       "      <td>-0.094159</td>\n",
       "      <td>-0.064120</td>\n",
       "      <td>-0.054660</td>\n",
       "    </tr>\n",
       "    <tr>\n",
       "      <th>Walc</th>\n",
       "      <td>0.117276</td>\n",
       "      <td>-0.047123</td>\n",
       "      <td>-0.012631</td>\n",
       "      <td>0.134116</td>\n",
       "      <td>-0.253785</td>\n",
       "      <td>0.141962</td>\n",
       "      <td>-0.113397</td>\n",
       "      <td>0.147822</td>\n",
       "      <td>0.420386</td>\n",
       "      <td>0.647544</td>\n",
       "      <td>1.000000</td>\n",
       "      <td>0.092476</td>\n",
       "      <td>0.136291</td>\n",
       "      <td>-0.126179</td>\n",
       "      <td>-0.084927</td>\n",
       "      <td>-0.051939</td>\n",
       "    </tr>\n",
       "    <tr>\n",
       "      <th>health</th>\n",
       "      <td>-0.062187</td>\n",
       "      <td>-0.046878</td>\n",
       "      <td>0.014742</td>\n",
       "      <td>0.007501</td>\n",
       "      <td>-0.075616</td>\n",
       "      <td>0.065827</td>\n",
       "      <td>0.094056</td>\n",
       "      <td>0.075733</td>\n",
       "      <td>-0.009577</td>\n",
       "      <td>0.077180</td>\n",
       "      <td>0.092476</td>\n",
       "      <td>1.000000</td>\n",
       "      <td>-0.029937</td>\n",
       "      <td>-0.073172</td>\n",
       "      <td>-0.097720</td>\n",
       "      <td>-0.061335</td>\n",
       "    </tr>\n",
       "    <tr>\n",
       "      <th>absences</th>\n",
       "      <td>0.175230</td>\n",
       "      <td>0.100285</td>\n",
       "      <td>0.024473</td>\n",
       "      <td>-0.012944</td>\n",
       "      <td>-0.062700</td>\n",
       "      <td>0.063726</td>\n",
       "      <td>-0.044354</td>\n",
       "      <td>-0.058078</td>\n",
       "      <td>0.044302</td>\n",
       "      <td>0.111908</td>\n",
       "      <td>0.136291</td>\n",
       "      <td>-0.029937</td>\n",
       "      <td>1.000000</td>\n",
       "      <td>-0.031003</td>\n",
       "      <td>-0.031777</td>\n",
       "      <td>0.034247</td>\n",
       "    </tr>\n",
       "    <tr>\n",
       "      <th>G1</th>\n",
       "      <td>-0.064081</td>\n",
       "      <td>0.205341</td>\n",
       "      <td>0.190270</td>\n",
       "      <td>-0.093040</td>\n",
       "      <td>0.160612</td>\n",
       "      <td>-0.354718</td>\n",
       "      <td>0.022168</td>\n",
       "      <td>0.012613</td>\n",
       "      <td>-0.149104</td>\n",
       "      <td>-0.094159</td>\n",
       "      <td>-0.126179</td>\n",
       "      <td>-0.073172</td>\n",
       "      <td>-0.031003</td>\n",
       "      <td>1.000000</td>\n",
       "      <td>0.852118</td>\n",
       "      <td>0.801468</td>\n",
       "    </tr>\n",
       "    <tr>\n",
       "      <th>G2</th>\n",
       "      <td>-0.143474</td>\n",
       "      <td>0.215527</td>\n",
       "      <td>0.164893</td>\n",
       "      <td>-0.153198</td>\n",
       "      <td>0.135880</td>\n",
       "      <td>-0.355896</td>\n",
       "      <td>-0.018281</td>\n",
       "      <td>-0.013777</td>\n",
       "      <td>-0.162250</td>\n",
       "      <td>-0.064120</td>\n",
       "      <td>-0.084927</td>\n",
       "      <td>-0.097720</td>\n",
       "      <td>-0.031777</td>\n",
       "      <td>0.852118</td>\n",
       "      <td>1.000000</td>\n",
       "      <td>0.904868</td>\n",
       "    </tr>\n",
       "    <tr>\n",
       "      <th>G3</th>\n",
       "      <td>-0.161579</td>\n",
       "      <td>0.217147</td>\n",
       "      <td>0.152457</td>\n",
       "      <td>-0.117142</td>\n",
       "      <td>0.097820</td>\n",
       "      <td>-0.360415</td>\n",
       "      <td>0.051363</td>\n",
       "      <td>0.011307</td>\n",
       "      <td>-0.132791</td>\n",
       "      <td>-0.054660</td>\n",
       "      <td>-0.051939</td>\n",
       "      <td>-0.061335</td>\n",
       "      <td>0.034247</td>\n",
       "      <td>0.801468</td>\n",
       "      <td>0.904868</td>\n",
       "      <td>1.000000</td>\n",
       "    </tr>\n",
       "  </tbody>\n",
       "</table>\n",
       "</div>"
      ],
      "text/plain": [
       "                 age      Medu      Fedu  traveltime  studytime  failures  \\\n",
       "age         1.000000 -0.163658 -0.163438    0.070641  -0.004140  0.243665   \n",
       "Medu       -0.163658  1.000000  0.623455   -0.171639   0.064944 -0.236680   \n",
       "Fedu       -0.163438  0.623455  1.000000   -0.158194  -0.009175 -0.250408   \n",
       "traveltime  0.070641 -0.171639 -0.158194    1.000000  -0.100909  0.092239   \n",
       "studytime  -0.004140  0.064944 -0.009175   -0.100909   1.000000 -0.173563   \n",
       "failures    0.243665 -0.236680 -0.250408    0.092239  -0.173563  1.000000   \n",
       "famrel      0.053940 -0.003914 -0.001370   -0.016808   0.039731 -0.044337   \n",
       "freetime    0.016434  0.030891 -0.012846   -0.017025  -0.143198  0.091987   \n",
       "goout       0.126964  0.064094  0.043105    0.028540  -0.063904  0.124561   \n",
       "Dalc        0.131125  0.019834  0.002386    0.138325  -0.196019  0.136047   \n",
       "Walc        0.117276 -0.047123 -0.012631    0.134116  -0.253785  0.141962   \n",
       "health     -0.062187 -0.046878  0.014742    0.007501  -0.075616  0.065827   \n",
       "absences    0.175230  0.100285  0.024473   -0.012944  -0.062700  0.063726   \n",
       "G1         -0.064081  0.205341  0.190270   -0.093040   0.160612 -0.354718   \n",
       "G2         -0.143474  0.215527  0.164893   -0.153198   0.135880 -0.355896   \n",
       "G3         -0.161579  0.217147  0.152457   -0.117142   0.097820 -0.360415   \n",
       "\n",
       "              famrel  freetime     goout      Dalc      Walc    health  \\\n",
       "age         0.053940  0.016434  0.126964  0.131125  0.117276 -0.062187   \n",
       "Medu       -0.003914  0.030891  0.064094  0.019834 -0.047123 -0.046878   \n",
       "Fedu       -0.001370 -0.012846  0.043105  0.002386 -0.012631  0.014742   \n",
       "traveltime -0.016808 -0.017025  0.028540  0.138325  0.134116  0.007501   \n",
       "studytime   0.039731 -0.143198 -0.063904 -0.196019 -0.253785 -0.075616   \n",
       "failures   -0.044337  0.091987  0.124561  0.136047  0.141962  0.065827   \n",
       "famrel      1.000000  0.150701  0.064568 -0.077594 -0.113397  0.094056   \n",
       "freetime    0.150701  1.000000  0.285019  0.209001  0.147822  0.075733   \n",
       "goout       0.064568  0.285019  1.000000  0.266994  0.420386 -0.009577   \n",
       "Dalc       -0.077594  0.209001  0.266994  1.000000  0.647544  0.077180   \n",
       "Walc       -0.113397  0.147822  0.420386  0.647544  1.000000  0.092476   \n",
       "health      0.094056  0.075733 -0.009577  0.077180  0.092476  1.000000   \n",
       "absences   -0.044354 -0.058078  0.044302  0.111908  0.136291 -0.029937   \n",
       "G1          0.022168  0.012613 -0.149104 -0.094159 -0.126179 -0.073172   \n",
       "G2         -0.018281 -0.013777 -0.162250 -0.064120 -0.084927 -0.097720   \n",
       "G3          0.051363  0.011307 -0.132791 -0.054660 -0.051939 -0.061335   \n",
       "\n",
       "            absences        G1        G2        G3  \n",
       "age         0.175230 -0.064081 -0.143474 -0.161579  \n",
       "Medu        0.100285  0.205341  0.215527  0.217147  \n",
       "Fedu        0.024473  0.190270  0.164893  0.152457  \n",
       "traveltime -0.012944 -0.093040 -0.153198 -0.117142  \n",
       "studytime  -0.062700  0.160612  0.135880  0.097820  \n",
       "failures    0.063726 -0.354718 -0.355896 -0.360415  \n",
       "famrel     -0.044354  0.022168 -0.018281  0.051363  \n",
       "freetime   -0.058078  0.012613 -0.013777  0.011307  \n",
       "goout       0.044302 -0.149104 -0.162250 -0.132791  \n",
       "Dalc        0.111908 -0.094159 -0.064120 -0.054660  \n",
       "Walc        0.136291 -0.126179 -0.084927 -0.051939  \n",
       "health     -0.029937 -0.073172 -0.097720 -0.061335  \n",
       "absences    1.000000 -0.031003 -0.031777  0.034247  \n",
       "G1         -0.031003  1.000000  0.852118  0.801468  \n",
       "G2         -0.031777  0.852118  1.000000  0.904868  \n",
       "G3          0.034247  0.801468  0.904868  1.000000  "
      ]
     },
     "execution_count": 11,
     "metadata": {
      "tags": []
     },
     "output_type": "execute_result"
    }
   ],
   "source": [
    "sd.corr()"
   ]
  },
  {
   "cell_type": "code",
   "execution_count": 0,
   "metadata": {
    "colab": {},
    "colab_type": "code",
    "id": "a0NDh0lTuHQE",
    "outputId": "e647316a-7cf3-42dc-c6d5-27ffb56e8af5"
   },
   "outputs": [
    {
     "data": {
      "text/plain": [
       "27"
      ]
     },
     "execution_count": 12,
     "metadata": {
      "tags": []
     },
     "output_type": "execute_result"
    }
   ],
   "source": [
    "P = sd.select_dtypes(exclude='object').columns\n",
    "\n",
    "l = sd.var()\n",
    "for i in P:\n",
    "    if float(l[i])<1:\n",
    "        sd.pop(i)\n",
    "        \n",
    "len(sd.columns)"
   ]
  },
  {
   "cell_type": "markdown",
   "metadata": {
    "colab_type": "text",
    "id": "KBSxAO4wuHQJ"
   },
   "source": [
    "#### Variables with less variance are almost same for all the records. Hence, they do not contribute much for classification."
   ]
  },
  {
   "cell_type": "markdown",
   "metadata": {
    "colab_type": "text",
    "id": "3Y2CYTIXuHQJ"
   },
   "source": [
    "## Question 4 - Encode all categorical variables to numerical\n",
    "\n",
    "Take the list of categorical attributes(from the above result) and convert them into neumerical variables. After that, print the head of dataframe and check the values.\n",
    "\n",
    "**Hint:** check **sklearn LabelEncoder()**\n",
    "\n",
    "#### Answer:"
   ]
  },
  {
   "cell_type": "code",
   "execution_count": 0,
   "metadata": {
    "colab": {},
    "colab_type": "code",
    "id": "ZmNpYg_WuHQK",
    "outputId": "15aef7d1-492c-4dc3-de80-299e6b233265"
   },
   "outputs": [
    {
     "data": {
      "text/html": [
       "<div>\n",
       "<style scoped>\n",
       "    .dataframe tbody tr th:only-of-type {\n",
       "        vertical-align: middle;\n",
       "    }\n",
       "\n",
       "    .dataframe tbody tr th {\n",
       "        vertical-align: top;\n",
       "    }\n",
       "\n",
       "    .dataframe thead th {\n",
       "        text-align: right;\n",
       "    }\n",
       "</style>\n",
       "<table border=\"1\" class=\"dataframe\">\n",
       "  <thead>\n",
       "    <tr style=\"text-align: right;\">\n",
       "      <th></th>\n",
       "      <th>school</th>\n",
       "      <th>sex</th>\n",
       "      <th>age</th>\n",
       "      <th>address</th>\n",
       "      <th>famsize</th>\n",
       "      <th>Pstatus</th>\n",
       "      <th>Medu</th>\n",
       "      <th>Fedu</th>\n",
       "      <th>Mjob</th>\n",
       "      <th>Fjob</th>\n",
       "      <th>...</th>\n",
       "      <th>higher</th>\n",
       "      <th>internet</th>\n",
       "      <th>romantic</th>\n",
       "      <th>goout</th>\n",
       "      <th>Walc</th>\n",
       "      <th>health</th>\n",
       "      <th>absences</th>\n",
       "      <th>G1</th>\n",
       "      <th>G2</th>\n",
       "      <th>G3</th>\n",
       "    </tr>\n",
       "    <tr>\n",
       "      <th>number</th>\n",
       "      <th></th>\n",
       "      <th></th>\n",
       "      <th></th>\n",
       "      <th></th>\n",
       "      <th></th>\n",
       "      <th></th>\n",
       "      <th></th>\n",
       "      <th></th>\n",
       "      <th></th>\n",
       "      <th></th>\n",
       "      <th></th>\n",
       "      <th></th>\n",
       "      <th></th>\n",
       "      <th></th>\n",
       "      <th></th>\n",
       "      <th></th>\n",
       "      <th></th>\n",
       "      <th></th>\n",
       "      <th></th>\n",
       "      <th></th>\n",
       "      <th></th>\n",
       "    </tr>\n",
       "  </thead>\n",
       "  <tbody>\n",
       "    <tr>\n",
       "      <th>0</th>\n",
       "      <td>0</td>\n",
       "      <td>0</td>\n",
       "      <td>18</td>\n",
       "      <td>1</td>\n",
       "      <td>0</td>\n",
       "      <td>0</td>\n",
       "      <td>4</td>\n",
       "      <td>4</td>\n",
       "      <td>0</td>\n",
       "      <td>4</td>\n",
       "      <td>...</td>\n",
       "      <td>1</td>\n",
       "      <td>0</td>\n",
       "      <td>0</td>\n",
       "      <td>4</td>\n",
       "      <td>1</td>\n",
       "      <td>3</td>\n",
       "      <td>6</td>\n",
       "      <td>5</td>\n",
       "      <td>6</td>\n",
       "      <td>6</td>\n",
       "    </tr>\n",
       "    <tr>\n",
       "      <th>1</th>\n",
       "      <td>0</td>\n",
       "      <td>0</td>\n",
       "      <td>17</td>\n",
       "      <td>1</td>\n",
       "      <td>0</td>\n",
       "      <td>1</td>\n",
       "      <td>1</td>\n",
       "      <td>1</td>\n",
       "      <td>0</td>\n",
       "      <td>2</td>\n",
       "      <td>...</td>\n",
       "      <td>1</td>\n",
       "      <td>1</td>\n",
       "      <td>0</td>\n",
       "      <td>3</td>\n",
       "      <td>1</td>\n",
       "      <td>3</td>\n",
       "      <td>4</td>\n",
       "      <td>5</td>\n",
       "      <td>5</td>\n",
       "      <td>6</td>\n",
       "    </tr>\n",
       "    <tr>\n",
       "      <th>2</th>\n",
       "      <td>0</td>\n",
       "      <td>0</td>\n",
       "      <td>15</td>\n",
       "      <td>1</td>\n",
       "      <td>1</td>\n",
       "      <td>1</td>\n",
       "      <td>1</td>\n",
       "      <td>1</td>\n",
       "      <td>0</td>\n",
       "      <td>2</td>\n",
       "      <td>...</td>\n",
       "      <td>1</td>\n",
       "      <td>1</td>\n",
       "      <td>0</td>\n",
       "      <td>2</td>\n",
       "      <td>3</td>\n",
       "      <td>3</td>\n",
       "      <td>10</td>\n",
       "      <td>7</td>\n",
       "      <td>8</td>\n",
       "      <td>10</td>\n",
       "    </tr>\n",
       "    <tr>\n",
       "      <th>3</th>\n",
       "      <td>0</td>\n",
       "      <td>0</td>\n",
       "      <td>15</td>\n",
       "      <td>1</td>\n",
       "      <td>0</td>\n",
       "      <td>1</td>\n",
       "      <td>4</td>\n",
       "      <td>2</td>\n",
       "      <td>1</td>\n",
       "      <td>3</td>\n",
       "      <td>...</td>\n",
       "      <td>1</td>\n",
       "      <td>1</td>\n",
       "      <td>1</td>\n",
       "      <td>2</td>\n",
       "      <td>1</td>\n",
       "      <td>5</td>\n",
       "      <td>2</td>\n",
       "      <td>15</td>\n",
       "      <td>14</td>\n",
       "      <td>15</td>\n",
       "    </tr>\n",
       "    <tr>\n",
       "      <th>4</th>\n",
       "      <td>0</td>\n",
       "      <td>0</td>\n",
       "      <td>16</td>\n",
       "      <td>1</td>\n",
       "      <td>0</td>\n",
       "      <td>1</td>\n",
       "      <td>3</td>\n",
       "      <td>3</td>\n",
       "      <td>2</td>\n",
       "      <td>2</td>\n",
       "      <td>...</td>\n",
       "      <td>1</td>\n",
       "      <td>0</td>\n",
       "      <td>0</td>\n",
       "      <td>2</td>\n",
       "      <td>2</td>\n",
       "      <td>5</td>\n",
       "      <td>4</td>\n",
       "      <td>6</td>\n",
       "      <td>10</td>\n",
       "      <td>10</td>\n",
       "    </tr>\n",
       "  </tbody>\n",
       "</table>\n",
       "<p>5 rows × 27 columns</p>\n",
       "</div>"
      ],
      "text/plain": [
       "        school  sex  age  address  famsize  Pstatus  Medu  Fedu  Mjob  Fjob  \\\n",
       "number                                                                        \n",
       "0            0    0   18        1        0        0     4     4     0     4   \n",
       "1            0    0   17        1        0        1     1     1     0     2   \n",
       "2            0    0   15        1        1        1     1     1     0     2   \n",
       "3            0    0   15        1        0        1     4     2     1     3   \n",
       "4            0    0   16        1        0        1     3     3     2     2   \n",
       "\n",
       "       ...  higher  internet  romantic  goout  Walc  health  absences  G1  G2  \\\n",
       "number ...                                                                      \n",
       "0      ...       1         0         0      4     1       3         6   5   6   \n",
       "1      ...       1         1         0      3     1       3         4   5   5   \n",
       "2      ...       1         1         0      2     3       3        10   7   8   \n",
       "3      ...       1         1         1      2     1       5         2  15  14   \n",
       "4      ...       1         0         0      2     2       5         4   6  10   \n",
       "\n",
       "        G3  \n",
       "number      \n",
       "0        6  \n",
       "1        6  \n",
       "2       10  \n",
       "3       15  \n",
       "4       10  \n",
       "\n",
       "[5 rows x 27 columns]"
      ]
     },
     "execution_count": 13,
     "metadata": {
      "tags": []
     },
     "output_type": "execute_result"
    }
   ],
   "source": [
    "from sklearn.preprocessing import LabelEncoder\n",
    "class_le = LabelEncoder()\n",
    "\n",
    "for column in L:\n",
    "    sd[column] = class_le.fit_transform(sd[column].values)\n",
    "sd.head()"
   ]
  },
  {
   "cell_type": "markdown",
   "metadata": {
    "colab_type": "text",
    "id": "4W-GbCYXuHQO"
   },
   "source": [
    "## Question 5 - Convert the continuous values of grades into classes\n",
    "\n",
    "*Consider the values in G1, G2 and G3 with >= 10 as pass(1) and < 10 as fail(0) and encode them into binary values. Print head of dataframe to check the values.*\n",
    "\n",
    "#### Answer:"
   ]
  },
  {
   "cell_type": "code",
   "execution_count": 0,
   "metadata": {
    "colab": {},
    "colab_type": "code",
    "id": "SlELxBQ0uHQP",
    "outputId": "9e930096-6dcb-42d3-c0d0-0adec4b4414b"
   },
   "outputs": [
    {
     "data": {
      "text/html": [
       "<div>\n",
       "<style scoped>\n",
       "    .dataframe tbody tr th:only-of-type {\n",
       "        vertical-align: middle;\n",
       "    }\n",
       "\n",
       "    .dataframe tbody tr th {\n",
       "        vertical-align: top;\n",
       "    }\n",
       "\n",
       "    .dataframe thead th {\n",
       "        text-align: right;\n",
       "    }\n",
       "</style>\n",
       "<table border=\"1\" class=\"dataframe\">\n",
       "  <thead>\n",
       "    <tr style=\"text-align: right;\">\n",
       "      <th></th>\n",
       "      <th>school</th>\n",
       "      <th>sex</th>\n",
       "      <th>age</th>\n",
       "      <th>address</th>\n",
       "      <th>famsize</th>\n",
       "      <th>Pstatus</th>\n",
       "      <th>Medu</th>\n",
       "      <th>Fedu</th>\n",
       "      <th>Mjob</th>\n",
       "      <th>Fjob</th>\n",
       "      <th>...</th>\n",
       "      <th>higher</th>\n",
       "      <th>internet</th>\n",
       "      <th>romantic</th>\n",
       "      <th>goout</th>\n",
       "      <th>Walc</th>\n",
       "      <th>health</th>\n",
       "      <th>absences</th>\n",
       "      <th>G1</th>\n",
       "      <th>G2</th>\n",
       "      <th>G3</th>\n",
       "    </tr>\n",
       "    <tr>\n",
       "      <th>number</th>\n",
       "      <th></th>\n",
       "      <th></th>\n",
       "      <th></th>\n",
       "      <th></th>\n",
       "      <th></th>\n",
       "      <th></th>\n",
       "      <th></th>\n",
       "      <th></th>\n",
       "      <th></th>\n",
       "      <th></th>\n",
       "      <th></th>\n",
       "      <th></th>\n",
       "      <th></th>\n",
       "      <th></th>\n",
       "      <th></th>\n",
       "      <th></th>\n",
       "      <th></th>\n",
       "      <th></th>\n",
       "      <th></th>\n",
       "      <th></th>\n",
       "      <th></th>\n",
       "    </tr>\n",
       "  </thead>\n",
       "  <tbody>\n",
       "    <tr>\n",
       "      <th>0</th>\n",
       "      <td>0</td>\n",
       "      <td>0</td>\n",
       "      <td>18</td>\n",
       "      <td>1</td>\n",
       "      <td>0</td>\n",
       "      <td>0</td>\n",
       "      <td>4</td>\n",
       "      <td>4</td>\n",
       "      <td>0</td>\n",
       "      <td>4</td>\n",
       "      <td>...</td>\n",
       "      <td>1</td>\n",
       "      <td>0</td>\n",
       "      <td>0</td>\n",
       "      <td>4</td>\n",
       "      <td>1</td>\n",
       "      <td>3</td>\n",
       "      <td>6</td>\n",
       "      <td>0</td>\n",
       "      <td>0</td>\n",
       "      <td>0</td>\n",
       "    </tr>\n",
       "    <tr>\n",
       "      <th>1</th>\n",
       "      <td>0</td>\n",
       "      <td>0</td>\n",
       "      <td>17</td>\n",
       "      <td>1</td>\n",
       "      <td>0</td>\n",
       "      <td>1</td>\n",
       "      <td>1</td>\n",
       "      <td>1</td>\n",
       "      <td>0</td>\n",
       "      <td>2</td>\n",
       "      <td>...</td>\n",
       "      <td>1</td>\n",
       "      <td>1</td>\n",
       "      <td>0</td>\n",
       "      <td>3</td>\n",
       "      <td>1</td>\n",
       "      <td>3</td>\n",
       "      <td>4</td>\n",
       "      <td>0</td>\n",
       "      <td>0</td>\n",
       "      <td>0</td>\n",
       "    </tr>\n",
       "    <tr>\n",
       "      <th>2</th>\n",
       "      <td>0</td>\n",
       "      <td>0</td>\n",
       "      <td>15</td>\n",
       "      <td>1</td>\n",
       "      <td>1</td>\n",
       "      <td>1</td>\n",
       "      <td>1</td>\n",
       "      <td>1</td>\n",
       "      <td>0</td>\n",
       "      <td>2</td>\n",
       "      <td>...</td>\n",
       "      <td>1</td>\n",
       "      <td>1</td>\n",
       "      <td>0</td>\n",
       "      <td>2</td>\n",
       "      <td>3</td>\n",
       "      <td>3</td>\n",
       "      <td>10</td>\n",
       "      <td>0</td>\n",
       "      <td>0</td>\n",
       "      <td>1</td>\n",
       "    </tr>\n",
       "    <tr>\n",
       "      <th>3</th>\n",
       "      <td>0</td>\n",
       "      <td>0</td>\n",
       "      <td>15</td>\n",
       "      <td>1</td>\n",
       "      <td>0</td>\n",
       "      <td>1</td>\n",
       "      <td>4</td>\n",
       "      <td>2</td>\n",
       "      <td>1</td>\n",
       "      <td>3</td>\n",
       "      <td>...</td>\n",
       "      <td>1</td>\n",
       "      <td>1</td>\n",
       "      <td>1</td>\n",
       "      <td>2</td>\n",
       "      <td>1</td>\n",
       "      <td>5</td>\n",
       "      <td>2</td>\n",
       "      <td>1</td>\n",
       "      <td>1</td>\n",
       "      <td>1</td>\n",
       "    </tr>\n",
       "    <tr>\n",
       "      <th>4</th>\n",
       "      <td>0</td>\n",
       "      <td>0</td>\n",
       "      <td>16</td>\n",
       "      <td>1</td>\n",
       "      <td>0</td>\n",
       "      <td>1</td>\n",
       "      <td>3</td>\n",
       "      <td>3</td>\n",
       "      <td>2</td>\n",
       "      <td>2</td>\n",
       "      <td>...</td>\n",
       "      <td>1</td>\n",
       "      <td>0</td>\n",
       "      <td>0</td>\n",
       "      <td>2</td>\n",
       "      <td>2</td>\n",
       "      <td>5</td>\n",
       "      <td>4</td>\n",
       "      <td>0</td>\n",
       "      <td>1</td>\n",
       "      <td>1</td>\n",
       "    </tr>\n",
       "  </tbody>\n",
       "</table>\n",
       "<p>5 rows × 27 columns</p>\n",
       "</div>"
      ],
      "text/plain": [
       "        school  sex  age  address  famsize  Pstatus  Medu  Fedu  Mjob  Fjob  \\\n",
       "number                                                                        \n",
       "0            0    0   18        1        0        0     4     4     0     4   \n",
       "1            0    0   17        1        0        1     1     1     0     2   \n",
       "2            0    0   15        1        1        1     1     1     0     2   \n",
       "3            0    0   15        1        0        1     4     2     1     3   \n",
       "4            0    0   16        1        0        1     3     3     2     2   \n",
       "\n",
       "       ...  higher  internet  romantic  goout  Walc  health  absences  G1  G2  \\\n",
       "number ...                                                                      \n",
       "0      ...       1         0         0      4     1       3         6   0   0   \n",
       "1      ...       1         1         0      3     1       3         4   0   0   \n",
       "2      ...       1         1         0      2     3       3        10   0   0   \n",
       "3      ...       1         1         1      2     1       5         2   1   1   \n",
       "4      ...       1         0         0      2     2       5         4   0   1   \n",
       "\n",
       "        G3  \n",
       "number      \n",
       "0        0  \n",
       "1        0  \n",
       "2        1  \n",
       "3        1  \n",
       "4        1  \n",
       "\n",
       "[5 rows x 27 columns]"
      ]
     },
     "execution_count": 14,
     "metadata": {
      "tags": []
     },
     "output_type": "execute_result"
    }
   ],
   "source": [
    "# Encode G1, G2, G3 as pass or fail binary values\n",
    "for i, row in sd.iterrows():\n",
    "    if int(row[\"G1\"]) >= 10:\n",
    "        sd[\"G1\"][i] = 1\n",
    "    else:\n",
    "        sd[\"G1\"][i] = 0\n",
    "\n",
    "    if int(row[\"G2\"]) >= 10:\n",
    "        sd[\"G2\"][i] = 1\n",
    "    else:\n",
    "        sd[\"G2\"][i] = 0\n",
    "\n",
    "    if int(row[\"G3\"]) >= 10:\n",
    "        sd[\"G3\"][i] = 1\n",
    "    else:\n",
    "        sd[\"G3\"][i] = 0\n",
    "sd.head()"
   ]
  },
  {
   "cell_type": "markdown",
   "metadata": {
    "colab_type": "text",
    "id": "kO7O6UW3uHQU"
   },
   "source": [
    "## Question 6 \n",
    "*Consider G3 is the target attribute and remaining all attributes as features to predict G3. Now, separate features and target into separate dataframes and name them X and y respectively.*"
   ]
  },
  {
   "cell_type": "code",
   "execution_count": 0,
   "metadata": {
    "colab": {},
    "colab_type": "code",
    "id": "vCvntE0YuHQW"
   },
   "outputs": [],
   "source": [
    "# Target values are G3\n",
    "y = sd.loc[:,\"G3\"]\n",
    "# Feature set is remaining features\n",
    "X = sd.iloc[:,:-1]"
   ]
  },
  {
   "cell_type": "markdown",
   "metadata": {
    "colab_type": "text",
    "id": "_CP-ZqsPuHQa"
   },
   "source": [
    "## Visualization\n",
    "\n",
    "## Question 7\n",
    "\n",
    "*Plot G2 and G3 and give your understanding on relation between both variables.*"
   ]
  },
  {
   "cell_type": "code",
   "execution_count": 0,
   "metadata": {
    "colab": {},
    "colab_type": "code",
    "id": "eh8o8rW_uHQb",
    "outputId": "a7205c7d-3048-41cc-dd76-43720aa88681"
   },
   "outputs": [
    {
     "data": {
      "text/plain": [
       "<matplotlib.axes._subplots.AxesSubplot at 0x986e710>"
      ]
     },
     "execution_count": 16,
     "metadata": {
      "tags": []
     },
     "output_type": "execute_result"
    },
    {
     "data": {
      "image/png": "[encoded data removed]",
      "text/plain": [
       "<matplotlib.figure.Figure at 0xb830898>"
      ]
     },
     "metadata": {
      "tags": []
     },
     "output_type": "display_data"
    }
   ],
   "source": [
    "pd.crosstab(sd.G2,sd.G3).plot(kind='bar')"
   ]
  },
  {
   "cell_type": "markdown",
   "metadata": {
    "colab_type": "text",
    "id": "wqefid55uHQg"
   },
   "source": [
    "\n",
    "The G3 depends a great deal on the G2. Thus, the G2 can be a good predictor of the outcome variable.\n"
   ]
  },
  {
   "cell_type": "markdown",
   "metadata": {
    "colab_type": "text",
    "id": "8O10W9U6uHQh"
   },
   "source": [
    "## Question 8\n",
    "\n",
    "*Plot the number of students in each school and number of students with different ages in separate plots.*"
   ]
  },
  {
   "cell_type": "code",
   "execution_count": 0,
   "metadata": {
    "colab": {},
    "colab_type": "code",
    "id": "FPBcJEPvuHQj",
    "outputId": "f46d8a0e-2bef-4950-c451-8bb6a6f04f55"
   },
   "outputs": [
    {
     "data": {
      "text/plain": [
       "<Container object of 2 artists>"
      ]
     },
     "execution_count": 17,
     "metadata": {
      "tags": []
     },
     "output_type": "execute_result"
    },
    {
     "data": {
      "image/png": "[encoded data removed]",
      "text/plain": [
       "<matplotlib.figure.Figure at 0xba34c50>"
      ]
     },
     "metadata": {
      "tags": []
     },
     "output_type": "display_data"
    }
   ],
   "source": [
    "plt.bar(sd.loc[:,\"school\"].unique(), sd.loc[:,\"school\"].value_counts())"
   ]
  },
  {
   "cell_type": "code",
   "execution_count": 0,
   "metadata": {
    "colab": {},
    "colab_type": "code",
    "id": "zpl9q12IuHQo",
    "outputId": "f01cf115-c90b-42fc-be6f-05cb51fbe6cc"
   },
   "outputs": [
    {
     "data": {
      "text/plain": [
       "<Container object of 8 artists>"
      ]
     },
     "execution_count": 18,
     "metadata": {
      "tags": []
     },
     "output_type": "execute_result"
    },
    {
     "data": {
      "image/png": "[encoded data removed]",
      "text/plain": [
       "<matplotlib.figure.Figure at 0xb938b70>"
      ]
     },
     "metadata": {
      "tags": []
     },
     "output_type": "display_data"
    }
   ],
   "source": [
    "plt.bar(sd.loc[:,\"age\"].unique(), sd.loc[:,\"age\"].value_counts())"
   ]
  },
  {
   "cell_type": "markdown",
   "metadata": {
    "colab_type": "text",
    "id": "8UP-m3juuHQv"
   },
   "source": [
    "## Question 9 - Training and testing data split"
   ]
  },
  {
   "cell_type": "markdown",
   "metadata": {
    "colab_type": "text",
    "id": "ePBT0v6TuHQw"
   },
   "source": [
    "*So far, you have converted all categorical features into numeric values. Now, split the data into training and test sets with training size of 300 records. Print the number of train and test records.*\n",
    "\n",
    "**Hint:** check **train_test_split()** from **sklearn**\n",
    "\n",
    "#### Answer:"
   ]
  },
  {
   "cell_type": "code",
   "execution_count": 0,
   "metadata": {
    "colab": {},
    "colab_type": "code",
    "id": "Nu5ULZAVuHQz",
    "outputId": "a08a1c20-4a56-4640-e4f4-b646cbbf9d28"
   },
   "outputs": [
    {
     "name": "stdout",
     "output_type": "stream",
     "text": [
      "Training set has 300 samples.\n",
      "Testing set has 95 samples.\n"
     ]
    }
   ],
   "source": [
    "from sklearn.model_selection import  train_test_split\n",
    "# Set the number of training points\n",
    "num_train = 300\n",
    "\n",
    "# Set the number of testing points\n",
    "num_test = X.shape[0] - num_train\n",
    "\n",
    "# Shuffle and split the dataset into the number of training and testing points above\n",
    "X_train, X_test, y_train, y_test = train_test_split(X, y, test_size=num_test)\n",
    "\n",
    "# Show the results of the split\n",
    "print(\"Training set has {} samples.\".format(X_train.shape[0]))\n",
    "print(\"Testing set has {} samples.\".format(X_test.shape[0]))"
   ]
  },
  {
   "cell_type": "markdown",
   "metadata": {
    "colab_type": "text",
    "id": "GHYII1QjuHQ3"
   },
   "source": [
    "## Question 10 - Model Implementation and Testing the Accuracy\n",
    "\n",
    "*Build a **LogisticRegression** classifier using **fit()** and **predict()** functions in sklearn. Print Accuracy and F1 score of Training and Test sets.*\n",
    "\n",
    "#### Answer:"
   ]
  },
  {
   "cell_type": "code",
   "execution_count": 0,
   "metadata": {
    "colab": {},
    "colab_type": "code",
    "id": "ne88xLZQuHQ4"
   },
   "outputs": [],
   "source": [
    "from sklearn.linear_model import LogisticRegression\n",
    "from sklearn.metrics import f1_score\n",
    "from sklearn.metrics import accuracy_score"
   ]
  },
  {
   "cell_type": "code",
   "execution_count": 0,
   "metadata": {
    "colab": {},
    "colab_type": "code",
    "id": "sTNrahjVuHQ6",
    "outputId": "2b0a3fa9-d660-4265-aa3b-1c2bc8e82c67"
   },
   "outputs": [
    {
     "name": "stdout",
     "output_type": "stream",
     "text": [
      "0.9266666666666666\n",
      "0.9444444444444445\n",
      "0.8736842105263158\n",
      "0.9076923076923076\n"
     ]
    }
   ],
   "source": [
    "clf = LogisticRegression()\n",
    "clf.fit(X_train, y_train)\n",
    "\n",
    "y_pred = clf.predict(X_train)\n",
    "print(accuracy_score(y_train, y_pred))\n",
    "print(f1_score(y_train, y_pred))\n",
    "\n",
    "y_pred = clf.predict(X_test)\n",
    "print(accuracy_score(y_test, y_pred))\n",
    "print(f1_score(y_test, y_pred))\n"
   ]
  },
  {
   "cell_type": "markdown",
   "metadata": {
    "colab_type": "text",
    "id": "Vpy90Xe150sV"
   },
   "source": [
    "# Naive bayes with Iris data"
   ]
  },
  {
   "cell_type": "code",
   "execution_count": 0,
   "metadata": {
    "colab": {},
    "colab_type": "code",
    "id": "01y7mlEEOgmv"
   },
   "outputs": [],
   "source": [
    "#Load all required library\n",
    "import pandas as pd\n",
    "import numpy as np\n",
    "from matplotlib import pyplot as plt\n",
    "%matplotlib inline\n",
    "from sklearn import datasets\n",
    "from sklearn.decomposition import PCA\n",
    "from sklearn.naive_bayes import GaussianNB, BernoulliNB, MultinomialNB"
   ]
  },
  {
   "cell_type": "markdown",
   "metadata": {
    "colab_type": "text",
    "id": "Ymp7UMwnOgm0"
   },
   "source": [
    "### Import Iris.csv"
   ]
  },
  {
   "cell_type": "code",
   "execution_count": 0,
   "metadata": {
    "colab": {},
    "colab_type": "code",
    "id": "GNnaUGrjOgm1",
    "outputId": "41ede850-749a-4175-bb62-9bc819d08720"
   },
   "outputs": [
    {
     "data": {
      "text/html": [
       "<div>\n",
       "<style scoped>\n",
       "    .dataframe tbody tr th:only-of-type {\n",
       "        vertical-align: middle;\n",
       "    }\n",
       "\n",
       "    .dataframe tbody tr th {\n",
       "        vertical-align: top;\n",
       "    }\n",
       "\n",
       "    .dataframe thead th {\n",
       "        text-align: right;\n",
       "    }\n",
       "</style>\n",
       "<table border=\"1\" class=\"dataframe\">\n",
       "  <thead>\n",
       "    <tr style=\"text-align: right;\">\n",
       "      <th></th>\n",
       "      <th>Id</th>\n",
       "      <th>SepalLengthCm</th>\n",
       "      <th>SepalWidthCm</th>\n",
       "      <th>PetalLengthCm</th>\n",
       "      <th>PetalWidthCm</th>\n",
       "      <th>Species</th>\n",
       "    </tr>\n",
       "  </thead>\n",
       "  <tbody>\n",
       "    <tr>\n",
       "      <th>0</th>\n",
       "      <td>1</td>\n",
       "      <td>5.1</td>\n",
       "      <td>3.5</td>\n",
       "      <td>1.4</td>\n",
       "      <td>0.2</td>\n",
       "      <td>Iris-setosa</td>\n",
       "    </tr>\n",
       "    <tr>\n",
       "      <th>1</th>\n",
       "      <td>2</td>\n",
       "      <td>4.9</td>\n",
       "      <td>3.0</td>\n",
       "      <td>1.4</td>\n",
       "      <td>0.2</td>\n",
       "      <td>Iris-setosa</td>\n",
       "    </tr>\n",
       "    <tr>\n",
       "      <th>2</th>\n",
       "      <td>3</td>\n",
       "      <td>4.7</td>\n",
       "      <td>3.2</td>\n",
       "      <td>1.3</td>\n",
       "      <td>0.2</td>\n",
       "      <td>Iris-setosa</td>\n",
       "    </tr>\n",
       "    <tr>\n",
       "      <th>3</th>\n",
       "      <td>4</td>\n",
       "      <td>4.6</td>\n",
       "      <td>3.1</td>\n",
       "      <td>1.5</td>\n",
       "      <td>0.2</td>\n",
       "      <td>Iris-setosa</td>\n",
       "    </tr>\n",
       "    <tr>\n",
       "      <th>4</th>\n",
       "      <td>5</td>\n",
       "      <td>5.0</td>\n",
       "      <td>3.6</td>\n",
       "      <td>1.4</td>\n",
       "      <td>0.2</td>\n",
       "      <td>Iris-setosa</td>\n",
       "    </tr>\n",
       "  </tbody>\n",
       "</table>\n",
       "</div>"
      ],
      "text/plain": [
       "   Id  SepalLengthCm  SepalWidthCm  PetalLengthCm  PetalWidthCm      Species\n",
       "0   1            5.1           3.5            1.4           0.2  Iris-setosa\n",
       "1   2            4.9           3.0            1.4           0.2  Iris-setosa\n",
       "2   3            4.7           3.2            1.3           0.2  Iris-setosa\n",
       "3   4            4.6           3.1            1.5           0.2  Iris-setosa\n",
       "4   5            5.0           3.6            1.4           0.2  Iris-setosa"
      ]
     },
     "execution_count": 2,
     "metadata": {
      "tags": []
     },
     "output_type": "execute_result"
    }
   ],
   "source": [
    "# Load using input file\n",
    "iris=pd.read_csv(\"D:/check/Solutions/Iris.csv\")\n",
    "iris.head(5)"
   ]
  },
  {
   "cell_type": "code",
   "execution_count": 0,
   "metadata": {
    "colab": {},
    "colab_type": "code",
    "id": "EONPnnVBOgm9",
    "outputId": "8fa2443b-eb5e-41c0-d697-7eb860776087"
   },
   "outputs": [
    {
     "data": {
      "text/plain": [
       "(150, 6)"
      ]
     },
     "execution_count": 3,
     "metadata": {
      "tags": []
     },
     "output_type": "execute_result"
    }
   ],
   "source": [
    "# Check dimension of data\n",
    "iris.shape"
   ]
  },
  {
   "cell_type": "code",
   "execution_count": 0,
   "metadata": {
    "colab": {},
    "colab_type": "code",
    "id": "-o6lAxL3OgnC",
    "outputId": "fd1250ef-0744-4341-bdda-649daf109b7e"
   },
   "outputs": [
    {
     "name": "stdout",
     "output_type": "stream",
     "text": [
      "<class 'pandas.core.frame.DataFrame'>\n",
      "RangeIndex: 150 entries, 0 to 149\n",
      "Data columns (total 6 columns):\n",
      "Id               150 non-null int64\n",
      "SepalLengthCm    150 non-null float64\n",
      "SepalWidthCm     150 non-null float64\n",
      "PetalLengthCm    150 non-null float64\n",
      "PetalWidthCm     150 non-null float64\n",
      "Species          150 non-null object\n",
      "dtypes: float64(4), int64(1), object(1)\n",
      "memory usage: 7.1+ KB\n"
     ]
    }
   ],
   "source": [
    "#Check shape of data\n",
    "iris.info()"
   ]
  },
  {
   "cell_type": "code",
   "execution_count": 0,
   "metadata": {
    "colab": {},
    "colab_type": "code",
    "id": "XVanNOb7OgnI"
   },
   "outputs": [],
   "source": [
    "# No Null values found"
   ]
  },
  {
   "cell_type": "markdown",
   "metadata": {
    "colab_type": "text",
    "id": "6UMrLVa9OgnM"
   },
   "source": [
    "### Slice data set for Independent variables and dependent variables\n",
    "#### Please note 'Species' is my dependent variables, name it y and independent set data as X"
   ]
  },
  {
   "cell_type": "code",
   "execution_count": 0,
   "metadata": {
    "colab": {},
    "colab_type": "code",
    "id": "YuqCZK2-OgnN"
   },
   "outputs": [],
   "source": [
    "X=iris.iloc[:,:4].values\n",
    "y=iris['Species'].values"
   ]
  },
  {
   "cell_type": "code",
   "execution_count": 0,
   "metadata": {
    "colab": {},
    "colab_type": "code",
    "id": "TxFyJxtBOgnQ",
    "outputId": "dc131365-dd7e-440e-b4cc-ae3a4659f265"
   },
   "outputs": [
    {
     "name": "stdout",
     "output_type": "stream",
     "text": [
      "['Iris-setosa' 'Iris-setosa' 'Iris-setosa' 'Iris-setosa' 'Iris-setosa'\n",
      " 'Iris-setosa' 'Iris-setosa' 'Iris-setosa' 'Iris-setosa' 'Iris-setosa'\n",
      " 'Iris-setosa' 'Iris-setosa' 'Iris-setosa' 'Iris-setosa' 'Iris-setosa'\n",
      " 'Iris-setosa' 'Iris-setosa' 'Iris-setosa' 'Iris-setosa' 'Iris-setosa'\n",
      " 'Iris-setosa' 'Iris-setosa' 'Iris-setosa' 'Iris-setosa' 'Iris-setosa'\n",
      " 'Iris-setosa' 'Iris-setosa' 'Iris-setosa' 'Iris-setosa' 'Iris-setosa'\n",
      " 'Iris-setosa' 'Iris-setosa' 'Iris-setosa' 'Iris-setosa' 'Iris-setosa'\n",
      " 'Iris-setosa' 'Iris-setosa' 'Iris-setosa' 'Iris-setosa' 'Iris-setosa'\n",
      " 'Iris-setosa' 'Iris-setosa' 'Iris-setosa' 'Iris-setosa' 'Iris-setosa'\n",
      " 'Iris-setosa' 'Iris-setosa' 'Iris-setosa' 'Iris-setosa' 'Iris-setosa'\n",
      " 'Iris-versicolor' 'Iris-versicolor' 'Iris-versicolor' 'Iris-versicolor'\n",
      " 'Iris-versicolor' 'Iris-versicolor' 'Iris-versicolor' 'Iris-versicolor'\n",
      " 'Iris-versicolor' 'Iris-versicolor' 'Iris-versicolor' 'Iris-versicolor'\n",
      " 'Iris-versicolor' 'Iris-versicolor' 'Iris-versicolor' 'Iris-versicolor'\n",
      " 'Iris-versicolor' 'Iris-versicolor' 'Iris-versicolor' 'Iris-versicolor'\n",
      " 'Iris-versicolor' 'Iris-versicolor' 'Iris-versicolor' 'Iris-versicolor'\n",
      " 'Iris-versicolor' 'Iris-versicolor' 'Iris-versicolor' 'Iris-versicolor'\n",
      " 'Iris-versicolor' 'Iris-versicolor' 'Iris-versicolor' 'Iris-versicolor'\n",
      " 'Iris-versicolor' 'Iris-versicolor' 'Iris-versicolor' 'Iris-versicolor'\n",
      " 'Iris-versicolor' 'Iris-versicolor' 'Iris-versicolor' 'Iris-versicolor'\n",
      " 'Iris-versicolor' 'Iris-versicolor' 'Iris-versicolor' 'Iris-versicolor'\n",
      " 'Iris-versicolor' 'Iris-versicolor' 'Iris-versicolor' 'Iris-versicolor'\n",
      " 'Iris-versicolor' 'Iris-versicolor' 'Iris-virginica' 'Iris-virginica'\n",
      " 'Iris-virginica' 'Iris-virginica' 'Iris-virginica' 'Iris-virginica'\n",
      " 'Iris-virginica' 'Iris-virginica' 'Iris-virginica' 'Iris-virginica'\n",
      " 'Iris-virginica' 'Iris-virginica' 'Iris-virginica' 'Iris-virginica'\n",
      " 'Iris-virginica' 'Iris-virginica' 'Iris-virginica' 'Iris-virginica'\n",
      " 'Iris-virginica' 'Iris-virginica' 'Iris-virginica' 'Iris-virginica'\n",
      " 'Iris-virginica' 'Iris-virginica' 'Iris-virginica' 'Iris-virginica'\n",
      " 'Iris-virginica' 'Iris-virginica' 'Iris-virginica' 'Iris-virginica'\n",
      " 'Iris-virginica' 'Iris-virginica' 'Iris-virginica' 'Iris-virginica'\n",
      " 'Iris-virginica' 'Iris-virginica' 'Iris-virginica' 'Iris-virginica'\n",
      " 'Iris-virginica' 'Iris-virginica' 'Iris-virginica' 'Iris-virginica'\n",
      " 'Iris-virginica' 'Iris-virginica' 'Iris-virginica' 'Iris-virginica'\n",
      " 'Iris-virginica' 'Iris-virginica' 'Iris-virginica' 'Iris-virginica']\n",
      "[[   1.     5.1    3.5    1.4]\n",
      " [   2.     4.9    3.     1.4]\n",
      " [   3.     4.7    3.2    1.3]\n",
      " [   4.     4.6    3.1    1.5]\n",
      " [   5.     5.     3.6    1.4]\n",
      " [   6.     5.4    3.9    1.7]\n",
      " [   7.     4.6    3.4    1.4]\n",
      " [   8.     5.     3.4    1.5]\n",
      " [   9.     4.4    2.9    1.4]\n",
      " [  10.     4.9    3.1    1.5]\n",
      " [  11.     5.4    3.7    1.5]\n",
      " [  12.     4.8    3.4    1.6]\n",
      " [  13.     4.8    3.     1.4]\n",
      " [  14.     4.3    3.     1.1]\n",
      " [  15.     5.8    4.     1.2]\n",
      " [  16.     5.7    4.4    1.5]\n",
      " [  17.     5.4    3.9    1.3]\n",
      " [  18.     5.1    3.5    1.4]\n",
      " [  19.     5.7    3.8    1.7]\n",
      " [  20.     5.1    3.8    1.5]\n",
      " [  21.     5.4    3.4    1.7]\n",
      " [  22.     5.1    3.7    1.5]\n",
      " [  23.     4.6    3.6    1. ]\n",
      " [  24.     5.1    3.3    1.7]\n",
      " [  25.     4.8    3.4    1.9]\n",
      " [  26.     5.     3.     1.6]\n",
      " [  27.     5.     3.4    1.6]\n",
      " [  28.     5.2    3.5    1.5]\n",
      " [  29.     5.2    3.4    1.4]\n",
      " [  30.     4.7    3.2    1.6]\n",
      " [  31.     4.8    3.1    1.6]\n",
      " [  32.     5.4    3.4    1.5]\n",
      " [  33.     5.2    4.1    1.5]\n",
      " [  34.     5.5    4.2    1.4]\n",
      " [  35.     4.9    3.1    1.5]\n",
      " [  36.     5.     3.2    1.2]\n",
      " [  37.     5.5    3.5    1.3]\n",
      " [  38.     4.9    3.1    1.5]\n",
      " [  39.     4.4    3.     1.3]\n",
      " [  40.     5.1    3.4    1.5]\n",
      " [  41.     5.     3.5    1.3]\n",
      " [  42.     4.5    2.3    1.3]\n",
      " [  43.     4.4    3.2    1.3]\n",
      " [  44.     5.     3.5    1.6]\n",
      " [  45.     5.1    3.8    1.9]\n",
      " [  46.     4.8    3.     1.4]\n",
      " [  47.     5.1    3.8    1.6]\n",
      " [  48.     4.6    3.2    1.4]\n",
      " [  49.     5.3    3.7    1.5]\n",
      " [  50.     5.     3.3    1.4]\n",
      " [  51.     7.     3.2    4.7]\n",
      " [  52.     6.4    3.2    4.5]\n",
      " [  53.     6.9    3.1    4.9]\n",
      " [  54.     5.5    2.3    4. ]\n",
      " [  55.     6.5    2.8    4.6]\n",
      " [  56.     5.7    2.8    4.5]\n",
      " [  57.     6.3    3.3    4.7]\n",
      " [  58.     4.9    2.4    3.3]\n",
      " [  59.     6.6    2.9    4.6]\n",
      " [  60.     5.2    2.7    3.9]\n",
      " [  61.     5.     2.     3.5]\n",
      " [  62.     5.9    3.     4.2]\n",
      " [  63.     6.     2.2    4. ]\n",
      " [  64.     6.1    2.9    4.7]\n",
      " [  65.     5.6    2.9    3.6]\n",
      " [  66.     6.7    3.1    4.4]\n",
      " [  67.     5.6    3.     4.5]\n",
      " [  68.     5.8    2.7    4.1]\n",
      " [  69.     6.2    2.2    4.5]\n",
      " [  70.     5.6    2.5    3.9]\n",
      " [  71.     5.9    3.2    4.8]\n",
      " [  72.     6.1    2.8    4. ]\n",
      " [  73.     6.3    2.5    4.9]\n",
      " [  74.     6.1    2.8    4.7]\n",
      " [  75.     6.4    2.9    4.3]\n",
      " [  76.     6.6    3.     4.4]\n",
      " [  77.     6.8    2.8    4.8]\n",
      " [  78.     6.7    3.     5. ]\n",
      " [  79.     6.     2.9    4.5]\n",
      " [  80.     5.7    2.6    3.5]\n",
      " [  81.     5.5    2.4    3.8]\n",
      " [  82.     5.5    2.4    3.7]\n",
      " [  83.     5.8    2.7    3.9]\n",
      " [  84.     6.     2.7    5.1]\n",
      " [  85.     5.4    3.     4.5]\n",
      " [  86.     6.     3.4    4.5]\n",
      " [  87.     6.7    3.1    4.7]\n",
      " [  88.     6.3    2.3    4.4]\n",
      " [  89.     5.6    3.     4.1]\n",
      " [  90.     5.5    2.5    4. ]\n",
      " [  91.     5.5    2.6    4.4]\n",
      " [  92.     6.1    3.     4.6]\n",
      " [  93.     5.8    2.6    4. ]\n",
      " [  94.     5.     2.3    3.3]\n",
      " [  95.     5.6    2.7    4.2]\n",
      " [  96.     5.7    3.     4.2]\n",
      " [  97.     5.7    2.9    4.2]\n",
      " [  98.     6.2    2.9    4.3]\n",
      " [  99.     5.1    2.5    3. ]\n",
      " [ 100.     5.7    2.8    4.1]\n",
      " [ 101.     6.3    3.3    6. ]\n",
      " [ 102.     5.8    2.7    5.1]\n",
      " [ 103.     7.1    3.     5.9]\n",
      " [ 104.     6.3    2.9    5.6]\n",
      " [ 105.     6.5    3.     5.8]\n",
      " [ 106.     7.6    3.     6.6]\n",
      " [ 107.     4.9    2.5    4.5]\n",
      " [ 108.     7.3    2.9    6.3]\n",
      " [ 109.     6.7    2.5    5.8]\n",
      " [ 110.     7.2    3.6    6.1]\n",
      " [ 111.     6.5    3.2    5.1]\n",
      " [ 112.     6.4    2.7    5.3]\n",
      " [ 113.     6.8    3.     5.5]\n",
      " [ 114.     5.7    2.5    5. ]\n",
      " [ 115.     5.8    2.8    5.1]\n",
      " [ 116.     6.4    3.2    5.3]\n",
      " [ 117.     6.5    3.     5.5]\n",
      " [ 118.     7.7    3.8    6.7]\n",
      " [ 119.     7.7    2.6    6.9]\n",
      " [ 120.     6.     2.2    5. ]\n",
      " [ 121.     6.9    3.2    5.7]\n",
      " [ 122.     5.6    2.8    4.9]\n",
      " [ 123.     7.7    2.8    6.7]\n",
      " [ 124.     6.3    2.7    4.9]\n",
      " [ 125.     6.7    3.3    5.7]\n",
      " [ 126.     7.2    3.2    6. ]\n",
      " [ 127.     6.2    2.8    4.8]\n",
      " [ 128.     6.1    3.     4.9]\n",
      " [ 129.     6.4    2.8    5.6]\n",
      " [ 130.     7.2    3.     5.8]\n",
      " [ 131.     7.4    2.8    6.1]\n",
      " [ 132.     7.9    3.8    6.4]\n",
      " [ 133.     6.4    2.8    5.6]\n",
      " [ 134.     6.3    2.8    5.1]\n",
      " [ 135.     6.1    2.6    5.6]\n",
      " [ 136.     7.7    3.     6.1]\n",
      " [ 137.     6.3    3.4    5.6]\n",
      " [ 138.     6.4    3.1    5.5]\n",
      " [ 139.     6.     3.     4.8]\n",
      " [ 140.     6.9    3.1    5.4]\n",
      " [ 141.     6.7    3.1    5.6]\n",
      " [ 142.     6.9    3.1    5.1]\n",
      " [ 143.     5.8    2.7    5.1]\n",
      " [ 144.     6.8    3.2    5.9]\n",
      " [ 145.     6.7    3.3    5.7]\n",
      " [ 146.     6.7    3.     5.2]\n",
      " [ 147.     6.3    2.5    5. ]\n",
      " [ 148.     6.5    3.     5.2]\n",
      " [ 149.     6.2    3.4    5.4]\n",
      " [ 150.     5.9    3.     5.1]]\n"
     ]
    }
   ],
   "source": [
    "#Check the dataset\n",
    "print(y)\n",
    "print(X)"
   ]
  },
  {
   "cell_type": "markdown",
   "metadata": {
    "colab_type": "text",
    "id": "oe4YSXwkOgnV"
   },
   "source": [
    "### Find the distribution of target variable (Class)"
   ]
  },
  {
   "cell_type": "code",
   "execution_count": 0,
   "metadata": {
    "colab": {},
    "colab_type": "code",
    "id": "65wA_xofOgnW",
    "outputId": "97ad1862-f3d9-442f-8532-ee6e651653b4"
   },
   "outputs": [
    {
     "data": {
      "text/plain": [
       "Iris-setosa        50\n",
       "Iris-versicolor    50\n",
       "Iris-virginica     50\n",
       "Name: Species, dtype: int64"
      ]
     },
     "execution_count": 8,
     "metadata": {
      "tags": []
     },
     "output_type": "execute_result"
    }
   ],
   "source": [
    "iris[\"Species\"].value_counts()"
   ]
  },
  {
   "cell_type": "markdown",
   "metadata": {
    "colab_type": "text",
    "id": "t386HtyCOgnb"
   },
   "source": [
    "### Plot the distribution of target variable using histogram"
   ]
  },
  {
   "cell_type": "code",
   "execution_count": 0,
   "metadata": {
    "colab": {},
    "colab_type": "code",
    "id": "1FbADzabOgnc",
    "outputId": "c851e267-4996-4ebf-edc6-9170ce13a4a4"
   },
   "outputs": [
    {
     "data": {
      "text/plain": [
       "<matplotlib.axes._subplots.AxesSubplot at 0x12095b366d8>"
      ]
     },
     "execution_count": 9,
     "metadata": {
      "tags": []
     },
     "output_type": "execute_result"
    },
    {
     "data": {
      "image/png": "[encoded data removed]",
      "text/plain": [
       "<matplotlib.figure.Figure at 0x12095aebf98>"
      ]
     },
     "metadata": {
      "tags": []
     },
     "output_type": "display_data"
    }
   ],
   "source": [
    "pd.value_counts(iris[\"Species\"]).plot(kind=\"bar\")"
   ]
  },
  {
   "cell_type": "markdown",
   "metadata": {
    "colab_type": "text",
    "id": "AvPOo-YKOgng"
   },
   "source": [
    "### Plot Scatter Matrix to understand the distribution of variables and give insights from it( 1 Marks)"
   ]
  },
  {
   "cell_type": "code",
   "execution_count": 0,
   "metadata": {
    "colab": {},
    "colab_type": "code",
    "id": "JgvP1rbgOgnh",
    "outputId": "1b20e7de-5be6-425d-e9ed-1affe26fd406"
   },
   "outputs": [
    {
     "name": "stderr",
     "output_type": "stream",
     "text": [
      "C:\\Users\\vikash.chandra\\AppData\\Local\\Continuum\\Anaconda3\\lib\\site-packages\\ipykernel_launcher.py:1: FutureWarning: pandas.scatter_matrix is deprecated. Use pandas.plotting.scatter_matrix instead\n",
      "  \"\"\"Entry point for launching an IPython kernel.\n"
     ]
    },
    {
     "data": {
      "image/png": "[encoded data removed]",
      "text/plain": [
       "<matplotlib.figure.Figure at 0x12095b36208>"
      ]
     },
     "metadata": {
      "tags": []
     },
     "output_type": "display_data"
    }
   ],
   "source": [
    "spd = pd.plotting.scatter_matrix(iris, figsize=(20,20), diagonal=\"kde\")"
   ]
  },
  {
   "cell_type": "markdown",
   "metadata": {
    "colab_type": "text",
    "id": "vkV6DZSLOgnm"
   },
   "source": [
    "### Summary Statistics and explain insights for at least 2 variables"
   ]
  },
  {
   "cell_type": "code",
   "execution_count": 0,
   "metadata": {
    "colab": {},
    "colab_type": "code",
    "id": "NFpTN29OOgnn",
    "outputId": "802659f3-f7ed-4122-98d6-1a7a98e9295e"
   },
   "outputs": [
    {
     "data": {
      "text/html": [
       "<div>\n",
       "<style scoped>\n",
       "    .dataframe tbody tr th:only-of-type {\n",
       "        vertical-align: middle;\n",
       "    }\n",
       "\n",
       "    .dataframe tbody tr th {\n",
       "        vertical-align: top;\n",
       "    }\n",
       "\n",
       "    .dataframe thead th {\n",
       "        text-align: right;\n",
       "    }\n",
       "</style>\n",
       "<table border=\"1\" class=\"dataframe\">\n",
       "  <thead>\n",
       "    <tr style=\"text-align: right;\">\n",
       "      <th></th>\n",
       "      <th>Id</th>\n",
       "      <th>SepalLengthCm</th>\n",
       "      <th>SepalWidthCm</th>\n",
       "      <th>PetalLengthCm</th>\n",
       "      <th>PetalWidthCm</th>\n",
       "      <th>Species</th>\n",
       "    </tr>\n",
       "  </thead>\n",
       "  <tbody>\n",
       "    <tr>\n",
       "      <th>count</th>\n",
       "      <td>150.000000</td>\n",
       "      <td>150.000000</td>\n",
       "      <td>150.000000</td>\n",
       "      <td>150.000000</td>\n",
       "      <td>150.000000</td>\n",
       "      <td>150</td>\n",
       "    </tr>\n",
       "    <tr>\n",
       "      <th>unique</th>\n",
       "      <td>NaN</td>\n",
       "      <td>NaN</td>\n",
       "      <td>NaN</td>\n",
       "      <td>NaN</td>\n",
       "      <td>NaN</td>\n",
       "      <td>3</td>\n",
       "    </tr>\n",
       "    <tr>\n",
       "      <th>top</th>\n",
       "      <td>NaN</td>\n",
       "      <td>NaN</td>\n",
       "      <td>NaN</td>\n",
       "      <td>NaN</td>\n",
       "      <td>NaN</td>\n",
       "      <td>Iris-setosa</td>\n",
       "    </tr>\n",
       "    <tr>\n",
       "      <th>freq</th>\n",
       "      <td>NaN</td>\n",
       "      <td>NaN</td>\n",
       "      <td>NaN</td>\n",
       "      <td>NaN</td>\n",
       "      <td>NaN</td>\n",
       "      <td>50</td>\n",
       "    </tr>\n",
       "    <tr>\n",
       "      <th>mean</th>\n",
       "      <td>75.500000</td>\n",
       "      <td>5.843333</td>\n",
       "      <td>3.054000</td>\n",
       "      <td>3.758667</td>\n",
       "      <td>1.198667</td>\n",
       "      <td>NaN</td>\n",
       "    </tr>\n",
       "    <tr>\n",
       "      <th>std</th>\n",
       "      <td>43.445368</td>\n",
       "      <td>0.828066</td>\n",
       "      <td>0.433594</td>\n",
       "      <td>1.764420</td>\n",
       "      <td>0.763161</td>\n",
       "      <td>NaN</td>\n",
       "    </tr>\n",
       "    <tr>\n",
       "      <th>min</th>\n",
       "      <td>1.000000</td>\n",
       "      <td>4.300000</td>\n",
       "      <td>2.000000</td>\n",
       "      <td>1.000000</td>\n",
       "      <td>0.100000</td>\n",
       "      <td>NaN</td>\n",
       "    </tr>\n",
       "    <tr>\n",
       "      <th>25%</th>\n",
       "      <td>38.250000</td>\n",
       "      <td>5.100000</td>\n",
       "      <td>2.800000</td>\n",
       "      <td>1.600000</td>\n",
       "      <td>0.300000</td>\n",
       "      <td>NaN</td>\n",
       "    </tr>\n",
       "    <tr>\n",
       "      <th>50%</th>\n",
       "      <td>75.500000</td>\n",
       "      <td>5.800000</td>\n",
       "      <td>3.000000</td>\n",
       "      <td>4.350000</td>\n",
       "      <td>1.300000</td>\n",
       "      <td>NaN</td>\n",
       "    </tr>\n",
       "    <tr>\n",
       "      <th>75%</th>\n",
       "      <td>112.750000</td>\n",
       "      <td>6.400000</td>\n",
       "      <td>3.300000</td>\n",
       "      <td>5.100000</td>\n",
       "      <td>1.800000</td>\n",
       "      <td>NaN</td>\n",
       "    </tr>\n",
       "    <tr>\n",
       "      <th>max</th>\n",
       "      <td>150.000000</td>\n",
       "      <td>7.900000</td>\n",
       "      <td>4.400000</td>\n",
       "      <td>6.900000</td>\n",
       "      <td>2.500000</td>\n",
       "      <td>NaN</td>\n",
       "    </tr>\n",
       "  </tbody>\n",
       "</table>\n",
       "</div>"
      ],
      "text/plain": [
       "                Id  SepalLengthCm  SepalWidthCm  PetalLengthCm  PetalWidthCm  \\\n",
       "count   150.000000     150.000000    150.000000     150.000000    150.000000   \n",
       "unique         NaN            NaN           NaN            NaN           NaN   \n",
       "top            NaN            NaN           NaN            NaN           NaN   \n",
       "freq           NaN            NaN           NaN            NaN           NaN   \n",
       "mean     75.500000       5.843333      3.054000       3.758667      1.198667   \n",
       "std      43.445368       0.828066      0.433594       1.764420      0.763161   \n",
       "min       1.000000       4.300000      2.000000       1.000000      0.100000   \n",
       "25%      38.250000       5.100000      2.800000       1.600000      0.300000   \n",
       "50%      75.500000       5.800000      3.000000       4.350000      1.300000   \n",
       "75%     112.750000       6.400000      3.300000       5.100000      1.800000   \n",
       "max     150.000000       7.900000      4.400000       6.900000      2.500000   \n",
       "\n",
       "            Species  \n",
       "count           150  \n",
       "unique            3  \n",
       "top     Iris-setosa  \n",
       "freq             50  \n",
       "mean            NaN  \n",
       "std             NaN  \n",
       "min             NaN  \n",
       "25%             NaN  \n",
       "50%             NaN  \n",
       "75%             NaN  \n",
       "max             NaN  "
      ]
     },
     "execution_count": 11,
     "metadata": {
      "tags": []
     },
     "output_type": "execute_result"
    }
   ],
   "source": [
    "iris.describe(include='all')"
   ]
  },
  {
   "cell_type": "code",
   "execution_count": 0,
   "metadata": {
    "colab": {},
    "colab_type": "code",
    "id": "ypaLrqPsOgns"
   },
   "outputs": [],
   "source": [
    "iris = iris.drop([\"Id\"], axis=1)"
   ]
  },
  {
   "cell_type": "markdown",
   "metadata": {
    "colab_type": "text",
    "id": "_MsXi4JROgnv"
   },
   "source": [
    "### Correlation among all variables and give your insights"
   ]
  },
  {
   "cell_type": "code",
   "execution_count": 0,
   "metadata": {
    "colab": {},
    "colab_type": "code",
    "id": "ENUi26odOgnx",
    "outputId": "80d43801-9111-46b7-873b-3dab4ad83632"
   },
   "outputs": [
    {
     "data": {
      "text/html": [
       "<div>\n",
       "<style scoped>\n",
       "    .dataframe tbody tr th:only-of-type {\n",
       "        vertical-align: middle;\n",
       "    }\n",
       "\n",
       "    .dataframe tbody tr th {\n",
       "        vertical-align: top;\n",
       "    }\n",
       "\n",
       "    .dataframe thead th {\n",
       "        text-align: right;\n",
       "    }\n",
       "</style>\n",
       "<table border=\"1\" class=\"dataframe\">\n",
       "  <thead>\n",
       "    <tr style=\"text-align: right;\">\n",
       "      <th></th>\n",
       "      <th>SepalLengthCm</th>\n",
       "      <th>SepalWidthCm</th>\n",
       "      <th>PetalLengthCm</th>\n",
       "      <th>PetalWidthCm</th>\n",
       "    </tr>\n",
       "  </thead>\n",
       "  <tbody>\n",
       "    <tr>\n",
       "      <th>SepalLengthCm</th>\n",
       "      <td>1.000000</td>\n",
       "      <td>-0.109369</td>\n",
       "      <td>0.871754</td>\n",
       "      <td>0.817954</td>\n",
       "    </tr>\n",
       "    <tr>\n",
       "      <th>SepalWidthCm</th>\n",
       "      <td>-0.109369</td>\n",
       "      <td>1.000000</td>\n",
       "      <td>-0.420516</td>\n",
       "      <td>-0.356544</td>\n",
       "    </tr>\n",
       "    <tr>\n",
       "      <th>PetalLengthCm</th>\n",
       "      <td>0.871754</td>\n",
       "      <td>-0.420516</td>\n",
       "      <td>1.000000</td>\n",
       "      <td>0.962757</td>\n",
       "    </tr>\n",
       "    <tr>\n",
       "      <th>PetalWidthCm</th>\n",
       "      <td>0.817954</td>\n",
       "      <td>-0.356544</td>\n",
       "      <td>0.962757</td>\n",
       "      <td>1.000000</td>\n",
       "    </tr>\n",
       "  </tbody>\n",
       "</table>\n",
       "</div>"
      ],
      "text/plain": [
       "               SepalLengthCm  SepalWidthCm  PetalLengthCm  PetalWidthCm\n",
       "SepalLengthCm       1.000000     -0.109369       0.871754      0.817954\n",
       "SepalWidthCm       -0.109369      1.000000      -0.420516     -0.356544\n",
       "PetalLengthCm       0.871754     -0.420516       1.000000      0.962757\n",
       "PetalWidthCm        0.817954     -0.356544       0.962757      1.000000"
      ]
     },
     "execution_count": 13,
     "metadata": {
      "tags": []
     },
     "output_type": "execute_result"
    }
   ],
   "source": [
    "corr = iris.corr()\n",
    "corr\n",
    "#Please note, it's Required to remove correlated features because they are voted twice in the model and it can lead to over inflating importance.We will ignore it here"
   ]
  },
  {
   "cell_type": "markdown",
   "metadata": {
    "colab_type": "text",
    "id": "ciKj4Zf6Ogn8"
   },
   "source": [
    "### Split data in Training and Validation in 80:20"
   ]
  },
  {
   "cell_type": "code",
   "execution_count": 0,
   "metadata": {
    "colab": {},
    "colab_type": "code",
    "id": "UAeLAItYOgn9"
   },
   "outputs": [],
   "source": [
    "### SPLITTING INTO TRAINING AND TEST SETS\n",
    "from sklearn.model_selection import train_test_split\n",
    "X_train, X_test, y_train, y_test = train_test_split(X, y, test_size = 0.20,random_state=22)"
   ]
  },
  {
   "cell_type": "markdown",
   "metadata": {
    "colab_type": "text",
    "id": "1-a4C3w9OgoA"
   },
   "source": [
    "### Do Feature Scaling"
   ]
  },
  {
   "cell_type": "code",
   "execution_count": 0,
   "metadata": {
    "colab": {},
    "colab_type": "code",
    "id": "6-9z1toUOgoC"
   },
   "outputs": [],
   "source": [
    "### NORMALIZTION / FEATURE SCALING\n",
    "from sklearn.preprocessing import StandardScaler\n",
    "sc=StandardScaler()\n",
    "X_train = sc.fit_transform(X_train)\n",
    "X_test = sc.transform(X_test)"
   ]
  },
  {
   "cell_type": "markdown",
   "metadata": {
    "colab_type": "text",
    "id": "miK8grUROgoI"
   },
   "source": [
    "### Train and Fit NaiveBayes Model"
   ]
  },
  {
   "cell_type": "code",
   "execution_count": 0,
   "metadata": {
    "colab": {},
    "colab_type": "code",
    "id": "29HTCg2POgoL",
    "outputId": "c5cb0a06-c049-498a-e603-e9cfc3feac9b"
   },
   "outputs": [
    {
     "data": {
      "text/plain": [
       "GaussianNB(priors=None)"
      ]
     },
     "execution_count": 17,
     "metadata": {
      "tags": []
     },
     "output_type": "execute_result"
    }
   ],
   "source": [
    "### WE WILL FIT THE THE CLASSIFIER TO THE TRAINING SET\n",
    "naiveClassifier=GaussianNB()\n",
    "naiveClassifier.fit(X_train,y_train)"
   ]
  },
  {
   "cell_type": "code",
   "execution_count": 0,
   "metadata": {
    "colab": {},
    "colab_type": "code",
    "id": "96wnWGX8OgoR"
   },
   "outputs": [],
   "source": [
    "y_pred = naiveClassifier.predict(X_test)"
   ]
  },
  {
   "cell_type": "code",
   "execution_count": 0,
   "metadata": {
    "colab": {},
    "colab_type": "code",
    "id": "aLOFqj44OgoT",
    "outputId": "1b1d87ae-cf8c-4131-c109-d5d2efb309ec"
   },
   "outputs": [
    {
     "data": {
      "text/plain": [
       "array([['Iris-setosa', 'Iris-setosa'],\n",
       "       ['Iris-virginica', 'Iris-virginica'],\n",
       "       ['Iris-versicolor', 'Iris-versicolor'],\n",
       "       ['Iris-virginica', 'Iris-virginica'],\n",
       "       ['Iris-versicolor', 'Iris-versicolor'],\n",
       "       ['Iris-versicolor', 'Iris-versicolor'],\n",
       "       ['Iris-versicolor', 'Iris-versicolor'],\n",
       "       ['Iris-virginica', 'Iris-virginica'],\n",
       "       ['Iris-versicolor', 'Iris-versicolor'],\n",
       "       ['Iris-setosa', 'Iris-setosa'],\n",
       "       ['Iris-virginica', 'Iris-virginica'],\n",
       "       ['Iris-versicolor', 'Iris-versicolor'],\n",
       "       ['Iris-virginica', 'Iris-virginica'],\n",
       "       ['Iris-virginica', 'Iris-virginica'],\n",
       "       ['Iris-setosa', 'Iris-setosa'],\n",
       "       ['Iris-virginica', 'Iris-virginica'],\n",
       "       ['Iris-versicolor', 'Iris-versicolor'],\n",
       "       ['Iris-versicolor', 'Iris-versicolor'],\n",
       "       ['Iris-virginica', 'Iris-virginica'],\n",
       "       ['Iris-versicolor', 'Iris-versicolor']], dtype=object)"
      ]
     },
     "execution_count": 19,
     "metadata": {
      "tags": []
     },
     "output_type": "execute_result"
    }
   ],
   "source": [
    "#Keeping the actual and predicted value side by side\n",
    "y_compare = np.vstack((y_test,y_pred)).T\n",
    "#Actual->LEFT\n",
    "#predicted->RIGHT\n",
    "#Number of values to be print\n",
    "y_compare[:20,:]"
   ]
  },
  {
   "cell_type": "markdown",
   "metadata": {
    "colab_type": "text",
    "id": "zkbFn_g-OgoY"
   },
   "source": [
    "### Print Accuracy and Confusion Matrix and Conclude your findings"
   ]
  },
  {
   "cell_type": "code",
   "execution_count": 0,
   "metadata": {
    "colab": {},
    "colab_type": "code",
    "id": "y2kBUikzOgoZ",
    "outputId": "c6bff098-4a58-47f5-c28e-f261d1dc4ac3"
   },
   "outputs": [
    {
     "name": "stdout",
     "output_type": "stream",
     "text": [
      "[[ 6  0  0]\n",
      " [ 0 10  0]\n",
      " [ 0  0 14]]\n"
     ]
    }
   ],
   "source": [
    "# Making the Confusion Matrix\n",
    "from sklearn.metrics import confusion_matrix\n",
    "cm = confusion_matrix(y_test, y_pred)\n",
    "print(cm)"
   ]
  },
  {
   "cell_type": "code",
   "execution_count": 0,
   "metadata": {
    "colab": {},
    "colab_type": "code",
    "id": "mQZ7Xz8SOgoe",
    "outputId": "e73577e2-9364-4615-b7a1-1ae0a960e3d9"
   },
   "outputs": [
    {
     "name": "stdout",
     "output_type": "stream",
     "text": [
      "Correct predictions:  30\n",
      "False predictions 0\n",
      "\n",
      "\n",
      "Accuracy of the Naive Bayes Clasification is:  1.0\n"
     ]
    }
   ],
   "source": [
    "#finding accuracy from the confusion matrix.\n",
    "a = cm.shape\n",
    "correctPrediction = 0\n",
    "falsePrediction = 0\n",
    "\n",
    "for row in range(a[0]):\n",
    "    for c in range(a[1]):\n",
    "        if row == c:\n",
    "            correctPrediction +=cm[row,c]\n",
    "        else:\n",
    "            falsePrediction += cm[row,c]\n",
    "print('Correct predictions: ', correctPrediction)\n",
    "print('False predictions', falsePrediction)\n",
    "print ('\\n\\nAccuracy of the Naive Bayes Clasification is: ', correctPrediction/(cm.sum()))"
   ]
  },
  {
   "cell_type": "code",
   "execution_count": 0,
   "metadata": {
    "colab": {},
    "colab_type": "code",
    "id": "fy7LN9ZuOgoi",
    "outputId": "5764b6ca-8f60-4ba2-b93c-22a95726226a"
   },
   "outputs": [
    {
     "name": "stdout",
     "output_type": "stream",
     "text": [
      "                 precision    recall  f1-score   support\n",
      "\n",
      "    Iris-setosa       1.00      1.00      1.00         6\n",
      "Iris-versicolor       1.00      1.00      1.00        10\n",
      " Iris-virginica       1.00      1.00      1.00        14\n",
      "\n",
      "    avg / total       1.00      1.00      1.00        30\n",
      "\n"
     ]
    }
   ],
   "source": [
    "from sklearn import metrics\n",
    "print(metrics.classification_report(y_pred, y_test))"
   ]
  }
 ],
 "metadata": {
  "colab": {
   "name": "R3_External_Lab_Logistic_and_Naive_bayes_solution.ipynb",
   "provenance": [],
   "version": "0.3.2"
  },
  "kernelspec": {
   "display_name": "Python 3",
   "language": "python",
   "name": "python3"
  },
  "language_info": {
   "codemirror_mode": {
    "name": "ipython",
    "version": 3
   },
   "file_extension": ".py",
   "mimetype": "text/x-python",
   "name": "python",
   "nbconvert_exporter": "python",
   "pygments_lexer": "ipython3",
   "version": "3.7.1"
  }
 },
 "nbformat": 4,
 "nbformat_minor": 1
}
