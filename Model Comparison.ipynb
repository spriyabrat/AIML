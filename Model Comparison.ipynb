{
 "cells": [
  {
   "cell_type": "code",
   "execution_count": 1,
   "metadata": {},
   "outputs": [],
   "source": [
    "%matplotlib inline\n",
    "import numpy as np\n",
    "import pandas as pd\n",
    "from sklearn.tree import DecisionTreeClassifier\n",
    "from sklearn.ensemble import RandomForestClassifier,GradientBoostingClassifier,AdaBoostClassifier,VotingClassifier,BaggingClassifier\n",
    "from sklearn.ensemble import StackingClassifier\n",
    "from sklearn.preprocessing import StandardScaler\n",
    "from sklearn import model_selection\n",
    "from sklearn import metrics\n",
    "#from sklearn.decomposition import PCA\n",
    "from scipy.stats import zscore\n",
    "import matplotlib.pyplot as plt \n",
    "from sklearn.linear_model import LogisticRegression\n",
    "import warnings\n",
    "warnings.filterwarnings('ignore')\n",
    "import seaborn as sns"
   ]
  },
  {
   "cell_type": "code",
   "execution_count": 2,
   "metadata": {},
   "outputs": [],
   "source": [
    "colnames = ['preg', 'glu', 'bp', 'sft', 'ins', 'bmi', 'dpf', 'age', 'outcome']\n",
    "pima_df = pd.read_csv(\"pima-indians-diabetes.data\",names=colnames)"
   ]
  },
  {
   "cell_type": "code",
   "execution_count": 3,
   "metadata": {},
   "outputs": [],
   "source": [
    "#X =  pima_df.drop(\"outcome\", axis=1)\n",
    "#y =  pima_df.pop(\"outcome\")"
   ]
  },
  {
   "cell_type": "code",
   "execution_count": 4,
   "metadata": {},
   "outputs": [],
   "source": [
    "X = pima_df[['glu','bmi', 'dpf', 'age']]\n",
    "y = pima_df.pop(\"outcome\")"
   ]
  },
  {
   "cell_type": "code",
   "execution_count": 5,
   "metadata": {},
   "outputs": [],
   "source": [
    "from sklearn.linear_model import LogisticRegression\n",
    "from sklearn.neighbors import KNeighborsClassifier"
   ]
  },
  {
   "cell_type": "code",
   "execution_count": 61,
   "metadata": {},
   "outputs": [],
   "source": [
    "dt_full=DecisionTreeClassifier(criterion='entropy',random_state=0)#fully grown tree (high bias error and var error)\n",
    "#bg = BaggingClassifier(base_estimator=dt_full,random_state=0,n_estimators=100)\n",
    "rf = RandomForestClassifier(n_estimators=51,criterion='entropy',random_state=0)\n",
    "ab = AdaBoostClassifier(n_estimators=51,random_state=0)\n",
    "gb = GradientBoostingClassifier(n_estimators=90,random_state=0)"
   ]
  },
  {
   "cell_type": "code",
   "execution_count": 62,
   "metadata": {},
   "outputs": [],
   "source": [
    "#gbstack = GradientBoostingClassifier(n_estimators=200,random_state=0)\n",
    "lr = LogisticRegression()"
   ]
  },
  {
   "cell_type": "code",
   "execution_count": 63,
   "metadata": {},
   "outputs": [],
   "source": [
    "vc = VotingClassifier(estimators = [('ab',ab),('rf',rf),('gb', gb)])\n",
    "sc = StackingClassifier(estimators = [('ab',ab),('rf',rf),('gb', gb)], final_estimator=lr)"
   ]
  },
  {
   "cell_type": "code",
   "execution_count": 64,
   "metadata": {},
   "outputs": [],
   "source": [
    "models = []\n",
    "models.append(('dt_full', dt_full))\n",
    "models.append(('rf', rf))\n",
    "models.append(('ab', ab))\n",
    "models.append(('gb', gb))\n",
    "models.append(('vc', vc))\n",
    "models.append(('sc',sc))"
   ]
  },
  {
   "cell_type": "code",
   "execution_count": 65,
   "metadata": {},
   "outputs": [
    {
     "name": "stdout",
     "output_type": "stream",
     "text": [
      "dt_full: 0.688846 (0.056228)\n",
      "rf: 0.743528 (0.038514)\n",
      "ab: 0.760462 (0.031359)\n",
      "gb: 0.761727 (0.037968)\n",
      "vc: 0.761735 (0.042782)\n",
      "sc: 0.761743 (0.040032)\n"
     ]
    },
    {
     "data": {
      "image/png": "[encoded data removed]",
      "text/plain": [
       "<Figure size 432x288 with 1 Axes>"
      ]
     },
     "metadata": {
      "needs_background": "light"
     },
     "output_type": "display_data"
    }
   ],
   "source": [
    "# evaluate each model in turn\n",
    "results = []\n",
    "names = []\n",
    "scoring = 'accuracy'\n",
    "for name, model in models:\n",
    "\t kfold = model_selection.KFold(n_splits=5,random_state=2)\n",
    "\tcv_results = model_selection.cross_val_score(model, X, y, cv=kfold, scoring=scoring)\n",
    "\tresults.append(cv_results)\n",
    "\tnames.append(name)\n",
    "\tmsg = \"%s: %f (%f)\" % (name, np.mean(cv_results), cv_results.std())\n",
    "\tprint(msg)\n",
    "# boxplot algorithm comparison\n",
    "fig = plt.figure()\n",
    "fig.suptitle('Algorithm Comparison')\n",
    "ax = fig.add_subplot(111)\n",
    "plt.boxplot(results)\n",
    "ax.set_xticklabels(names)\n",
    "plt.show()"
   ]
  },
  {
   "cell_type": "code",
   "execution_count": 67,
   "metadata": {
    "scrolled": true
   },
   "outputs": [
    {
     "data": {
      "text/plain": [
       "[array([0.69480519, 0.5974026 , 0.74025974, 0.75163399, 0.66013072]),\n",
       " array([0.74025974, 0.68831169, 0.77272727, 0.79738562, 0.71895425]),\n",
       " array([0.74025974, 0.71428571, 0.79220779, 0.79738562, 0.75816993]),\n",
       " array([0.78571429, 0.69480519, 0.7987013 , 0.78431373, 0.74509804]),\n",
       " array([0.77272727, 0.69480519, 0.80519481, 0.80392157, 0.73202614]),\n",
       " array([0.77922078, 0.68831169, 0.7987013 , 0.79084967, 0.75163399])]"
      ]
     },
     "execution_count": 67,
     "metadata": {},
     "output_type": "execute_result"
    }
   ],
   "source": [
    "results"
   ]
  },
  {
   "cell_type": "code",
   "execution_count": null,
   "metadata": {},
   "outputs": [],
   "source": []
  }
 ],
 "metadata": {
  "kernelspec": {
   "display_name": "Python 3",
   "language": "python",
   "name": "python3"
  },
  "language_info": {
   "codemirror_mode": {
    "name": "ipython",
    "version": 3
   },
   "file_extension": ".py",
   "mimetype": "text/x-python",
   "name": "python",
   "nbconvert_exporter": "python",
   "pygments_lexer": "ipython3",
   "version": "3.7.1"
  }
 },
 "nbformat": 4,
 "nbformat_minor": 2
}
